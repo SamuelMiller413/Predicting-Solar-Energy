{
 "cells": [
  {
   "cell_type": "markdown",
   "id": "9dabec69",
   "metadata": {},
   "source": [
    "   \n",
    "   # Predicting Solar Energy Potential with Machine Learning"
   ]
  },
  {
   "cell_type": "markdown",
   "id": "1c8361fb",
   "metadata": {},
   "source": [
    ">## Contents ##\n",
    ">###### 1. Imports  \n",
    ">###### 2. Pre-Processing  \n",
    ">###### 3. Data Split\n",
    ">###### 4. Exploratory Analysis \n",
    ">###### 5. Feature Selection \n",
    "        - Recursive Feature Elimination   \n",
    ">###### 6. Models / / RandomCV / / Testing \n",
    "       - DummyRegressor  \n",
    "       - RandromForestRegressor  \n",
    "       - SGDRegressor  \n",
    "       - MLPRegressor  \n",
    ">###### 7. Summary of Scores "
   ]
  },
  {
   "cell_type": "markdown",
   "id": "3e117c66",
   "metadata": {},
   "source": [
    " "
   ]
  },
  {
   "cell_type": "markdown",
   "id": "a44bd425",
   "metadata": {},
   "source": [
    ">>## Imports ##"
   ]
  },
  {
   "cell_type": "code",
   "execution_count": 1,
   "id": "9b9d1135",
   "metadata": {},
   "outputs": [],
   "source": [
    "                                                                          # STANDARDS\n",
    "import numpy as np \n",
    "import pandas as pd \n",
    "import pprint\n",
    "                                                                          # PRE-PROCESSING\n",
    "from sklearn.preprocessing import StandardScaler\n",
    "                                                                          # FEATURE SELECTION\n",
    "from sklearn.neighbors import KNeighborsRegressor\n",
    "from sklearn.decomposition import PCA\n",
    "from sklearn.cluster import KMeans\n",
    "from sklearn.ensemble import ExtraTreesRegressor\n",
    "from sklearn.feature_selection import SelectFromModel, mutual_info_regression, RFE, RFECV\n",
    "\n",
    "                                                                          # PIPELINE\n",
    "from sklearn.pipeline import Pipeline\n",
    "                                                                          # REGRESSORS       \n",
    "from sklearn.dummy import DummyRegressor\n",
    "from sklearn.ensemble import RandomForestRegressor\n",
    "from sklearn.linear_model import LinearRegression, SGDRegressor\n",
    "                                          \n",
    "                                                                          # NEURAL NETWORK\n",
    "from sklearn.neural_network import MLPRegressor\n",
    "\n",
    "                                                                          # CROSS VALIDATION\n",
    "from sklearn.model_selection import train_test_split, cross_val_score, ShuffleSplit, StratifiedKFold\n",
    "from sklearn.model_selection import learning_curve, cross_val_predict\n",
    "from sklearn.model_selection import KFold, RandomizedSearchCV\n",
    "\n",
    "                                                                          # EVALUATION\n",
    "from sklearn.metrics import explained_variance_score, mean_absolute_error, mean_squared_error\n",
    "from sklearn.metrics import mean_absolute_percentage_error, r2_score\n",
    "from sklearn.metrics import silhouette_score\n",
    "from sklearn.metrics import SCORERS\n",
    "\n",
    "                                                                          # PLOTTING\n",
    "from plotting import plot_learning_curve, plot_validation_curve\n",
    "import random\n",
    "import matplotlib.pyplot as plt\n",
    "import seaborn as sns\n",
    "\n",
    "                                                                          # DATA SET\n",
    "csv = '/Users/admin/CodingNomads/data-science-machine-learning/capstone_project/Pasion et al dataset.csv'\n",
    "df = pd.read_csv(csv)"
   ]
  },
  {
   "cell_type": "markdown",
   "id": "6e30f583",
   "metadata": {},
   "source": [
    ">>## Initial EDA"
   ]
  },
  {
   "cell_type": "code",
   "execution_count": 2,
   "id": "868ca73c",
   "metadata": {},
   "outputs": [
    {
     "name": "stdout",
     "output_type": "stream",
     "text": [
      "<class 'pandas.core.frame.DataFrame'>\n",
      "RangeIndex: 21045 entries, 0 to 21044\n",
      "Data columns (total 17 columns):\n",
      " #   Column         Non-Null Count  Dtype  \n",
      "---  ------         --------------  -----  \n",
      " 0   Location       21045 non-null  object \n",
      " 1   Date           21045 non-null  int64  \n",
      " 2   Time           21045 non-null  int64  \n",
      " 3   Latitude       21045 non-null  float64\n",
      " 4   Longitude      21045 non-null  float64\n",
      " 5   Altitude       21045 non-null  int64  \n",
      " 6   YRMODAHRMI     21045 non-null  float64\n",
      " 7   Month          21045 non-null  int64  \n",
      " 8   Hour           21045 non-null  int64  \n",
      " 9   Season         21045 non-null  object \n",
      " 10  Humidity       21045 non-null  float64\n",
      " 11  AmbientTemp    21045 non-null  float64\n",
      " 12  PolyPwr        21045 non-null  float64\n",
      " 13  Wind.Speed     21045 non-null  int64  \n",
      " 14  Visibility     21045 non-null  float64\n",
      " 15  Pressure       21045 non-null  float64\n",
      " 16  Cloud.Ceiling  21045 non-null  int64  \n",
      "dtypes: float64(8), int64(7), object(2)\n",
      "memory usage: 2.7+ MB\n"
     ]
    }
   ],
   "source": [
    "df.info()\n"
   ]
  },
  {
   "cell_type": "markdown",
   "id": "f1e13ac4",
   "metadata": {},
   "source": [
    "### Summary Statistics"
   ]
  },
  {
   "cell_type": "code",
   "execution_count": 3,
   "id": "937d7305",
   "metadata": {},
   "outputs": [
    {
     "data": {
      "text/html": [
       "<div>\n",
       "<style scoped>\n",
       "    .dataframe tbody tr th:only-of-type {\n",
       "        vertical-align: middle;\n",
       "    }\n",
       "\n",
       "    .dataframe tbody tr th {\n",
       "        vertical-align: top;\n",
       "    }\n",
       "\n",
       "    .dataframe thead th {\n",
       "        text-align: right;\n",
       "    }\n",
       "</style>\n",
       "<table border=\"1\" class=\"dataframe\">\n",
       "  <thead>\n",
       "    <tr style=\"text-align: right;\">\n",
       "      <th></th>\n",
       "      <th>Date</th>\n",
       "      <th>Time</th>\n",
       "      <th>Latitude</th>\n",
       "      <th>Longitude</th>\n",
       "      <th>Altitude</th>\n",
       "      <th>YRMODAHRMI</th>\n",
       "      <th>Month</th>\n",
       "      <th>Hour</th>\n",
       "      <th>Humidity</th>\n",
       "      <th>AmbientTemp</th>\n",
       "      <th>PolyPwr</th>\n",
       "      <th>Wind.Speed</th>\n",
       "      <th>Visibility</th>\n",
       "      <th>Pressure</th>\n",
       "      <th>Cloud.Ceiling</th>\n",
       "    </tr>\n",
       "  </thead>\n",
       "  <tbody>\n",
       "    <tr>\n",
       "      <th>count</th>\n",
       "      <td>2.104500e+04</td>\n",
       "      <td>21045.000000</td>\n",
       "      <td>21045.000000</td>\n",
       "      <td>21045.000000</td>\n",
       "      <td>21045.000000</td>\n",
       "      <td>2.104500e+04</td>\n",
       "      <td>21045.000000</td>\n",
       "      <td>21045.000000</td>\n",
       "      <td>21045.000000</td>\n",
       "      <td>21045.000000</td>\n",
       "      <td>21045.000000</td>\n",
       "      <td>21045.000000</td>\n",
       "      <td>21045.000000</td>\n",
       "      <td>21045.000000</td>\n",
       "      <td>21045.000000</td>\n",
       "    </tr>\n",
       "    <tr>\n",
       "      <th>mean</th>\n",
       "      <td>2.017720e+07</td>\n",
       "      <td>1267.483725</td>\n",
       "      <td>38.213823</td>\n",
       "      <td>-108.593678</td>\n",
       "      <td>798.843668</td>\n",
       "      <td>2.017718e+11</td>\n",
       "      <td>6.565883</td>\n",
       "      <td>12.627845</td>\n",
       "      <td>37.121941</td>\n",
       "      <td>29.285117</td>\n",
       "      <td>12.978583</td>\n",
       "      <td>10.318318</td>\n",
       "      <td>9.700071</td>\n",
       "      <td>925.944747</td>\n",
       "      <td>515.966785</td>\n",
       "    </tr>\n",
       "    <tr>\n",
       "      <th>std</th>\n",
       "      <td>4.579585e+03</td>\n",
       "      <td>167.602767</td>\n",
       "      <td>6.323761</td>\n",
       "      <td>16.364130</td>\n",
       "      <td>770.681794</td>\n",
       "      <td>4.579846e+07</td>\n",
       "      <td>2.983958</td>\n",
       "      <td>1.672952</td>\n",
       "      <td>23.823011</td>\n",
       "      <td>12.366820</td>\n",
       "      <td>7.123255</td>\n",
       "      <td>6.385030</td>\n",
       "      <td>1.351949</td>\n",
       "      <td>85.215659</td>\n",
       "      <td>301.903379</td>\n",
       "    </tr>\n",
       "    <tr>\n",
       "      <th>min</th>\n",
       "      <td>2.017052e+07</td>\n",
       "      <td>1000.000000</td>\n",
       "      <td>20.890000</td>\n",
       "      <td>-156.440000</td>\n",
       "      <td>1.000000</td>\n",
       "      <td>2.017050e+11</td>\n",
       "      <td>1.000000</td>\n",
       "      <td>10.000000</td>\n",
       "      <td>0.000000</td>\n",
       "      <td>-19.981770</td>\n",
       "      <td>0.257330</td>\n",
       "      <td>0.000000</td>\n",
       "      <td>0.000000</td>\n",
       "      <td>781.700000</td>\n",
       "      <td>0.000000</td>\n",
       "    </tr>\n",
       "    <tr>\n",
       "      <th>25%</th>\n",
       "      <td>2.017111e+07</td>\n",
       "      <td>1100.000000</td>\n",
       "      <td>38.160000</td>\n",
       "      <td>-117.260000</td>\n",
       "      <td>2.000000</td>\n",
       "      <td>2.017110e+11</td>\n",
       "      <td>4.000000</td>\n",
       "      <td>11.000000</td>\n",
       "      <td>17.529300</td>\n",
       "      <td>21.915280</td>\n",
       "      <td>6.404570</td>\n",
       "      <td>6.000000</td>\n",
       "      <td>10.000000</td>\n",
       "      <td>845.500000</td>\n",
       "      <td>140.000000</td>\n",
       "    </tr>\n",
       "    <tr>\n",
       "      <th>50%</th>\n",
       "      <td>2.018032e+07</td>\n",
       "      <td>1300.000000</td>\n",
       "      <td>38.950000</td>\n",
       "      <td>-111.180000</td>\n",
       "      <td>458.000000</td>\n",
       "      <td>2.018030e+11</td>\n",
       "      <td>7.000000</td>\n",
       "      <td>13.000000</td>\n",
       "      <td>33.123780</td>\n",
       "      <td>30.289150</td>\n",
       "      <td>13.798700</td>\n",
       "      <td>9.000000</td>\n",
       "      <td>10.000000</td>\n",
       "      <td>961.100000</td>\n",
       "      <td>722.000000</td>\n",
       "    </tr>\n",
       "    <tr>\n",
       "      <th>75%</th>\n",
       "      <td>2.018062e+07</td>\n",
       "      <td>1400.000000</td>\n",
       "      <td>41.150000</td>\n",
       "      <td>-104.710000</td>\n",
       "      <td>1370.000000</td>\n",
       "      <td>2.018060e+11</td>\n",
       "      <td>9.000000</td>\n",
       "      <td>14.000000</td>\n",
       "      <td>52.593990</td>\n",
       "      <td>37.474670</td>\n",
       "      <td>18.863650</td>\n",
       "      <td>14.000000</td>\n",
       "      <td>10.000000</td>\n",
       "      <td>1008.900000</td>\n",
       "      <td>722.000000</td>\n",
       "    </tr>\n",
       "    <tr>\n",
       "      <th>max</th>\n",
       "      <td>2.018100e+07</td>\n",
       "      <td>1545.000000</td>\n",
       "      <td>47.520000</td>\n",
       "      <td>-80.110000</td>\n",
       "      <td>1947.000000</td>\n",
       "      <td>2.018100e+11</td>\n",
       "      <td>12.000000</td>\n",
       "      <td>15.000000</td>\n",
       "      <td>99.987790</td>\n",
       "      <td>65.738370</td>\n",
       "      <td>34.285020</td>\n",
       "      <td>49.000000</td>\n",
       "      <td>10.000000</td>\n",
       "      <td>1029.500000</td>\n",
       "      <td>722.000000</td>\n",
       "    </tr>\n",
       "  </tbody>\n",
       "</table>\n",
       "</div>"
      ],
      "text/plain": [
       "               Date          Time      Latitude     Longitude      Altitude  \\\n",
       "count  2.104500e+04  21045.000000  21045.000000  21045.000000  21045.000000   \n",
       "mean   2.017720e+07   1267.483725     38.213823   -108.593678    798.843668   \n",
       "std    4.579585e+03    167.602767      6.323761     16.364130    770.681794   \n",
       "min    2.017052e+07   1000.000000     20.890000   -156.440000      1.000000   \n",
       "25%    2.017111e+07   1100.000000     38.160000   -117.260000      2.000000   \n",
       "50%    2.018032e+07   1300.000000     38.950000   -111.180000    458.000000   \n",
       "75%    2.018062e+07   1400.000000     41.150000   -104.710000   1370.000000   \n",
       "max    2.018100e+07   1545.000000     47.520000    -80.110000   1947.000000   \n",
       "\n",
       "         YRMODAHRMI         Month          Hour      Humidity   AmbientTemp  \\\n",
       "count  2.104500e+04  21045.000000  21045.000000  21045.000000  21045.000000   \n",
       "mean   2.017718e+11      6.565883     12.627845     37.121941     29.285117   \n",
       "std    4.579846e+07      2.983958      1.672952     23.823011     12.366820   \n",
       "min    2.017050e+11      1.000000     10.000000      0.000000    -19.981770   \n",
       "25%    2.017110e+11      4.000000     11.000000     17.529300     21.915280   \n",
       "50%    2.018030e+11      7.000000     13.000000     33.123780     30.289150   \n",
       "75%    2.018060e+11      9.000000     14.000000     52.593990     37.474670   \n",
       "max    2.018100e+11     12.000000     15.000000     99.987790     65.738370   \n",
       "\n",
       "            PolyPwr    Wind.Speed    Visibility      Pressure  Cloud.Ceiling  \n",
       "count  21045.000000  21045.000000  21045.000000  21045.000000   21045.000000  \n",
       "mean      12.978583     10.318318      9.700071    925.944747     515.966785  \n",
       "std        7.123255      6.385030      1.351949     85.215659     301.903379  \n",
       "min        0.257330      0.000000      0.000000    781.700000       0.000000  \n",
       "25%        6.404570      6.000000     10.000000    845.500000     140.000000  \n",
       "50%       13.798700      9.000000     10.000000    961.100000     722.000000  \n",
       "75%       18.863650     14.000000     10.000000   1008.900000     722.000000  \n",
       "max       34.285020     49.000000     10.000000   1029.500000     722.000000  "
      ]
     },
     "execution_count": 3,
     "metadata": {},
     "output_type": "execute_result"
    }
   ],
   "source": [
    "df.describe()"
   ]
  },
  {
   "cell_type": "code",
   "execution_count": 4,
   "id": "467fab8f",
   "metadata": {},
   "outputs": [
    {
     "name": "stdout",
     "output_type": "stream",
     "text": [
      "                           < Summary Statistics: >\n",
      "\n",
      "               Date          Time      Latitude     Longitude      Altitude  \\\n",
      "count  2.104500e+04  21045.000000  21045.000000  21045.000000  21045.000000   \n",
      "mean   2.017720e+07   1267.483725     38.213823   -108.593678    798.843668   \n",
      "std    4.579585e+03    167.602767      6.323761     16.364130    770.681794   \n",
      "min    2.017052e+07   1000.000000     20.890000   -156.440000      1.000000   \n",
      "25%    2.017111e+07   1100.000000     38.160000   -117.260000      2.000000   \n",
      "50%    2.018032e+07   1300.000000     38.950000   -111.180000    458.000000   \n",
      "75%    2.018062e+07   1400.000000     41.150000   -104.710000   1370.000000   \n",
      "max    2.018100e+07   1545.000000     47.520000    -80.110000   1947.000000   \n",
      "\n",
      "         YRMODAHRMI         Month          Hour      Humidity   AmbientTemp  \\\n",
      "count  2.104500e+04  21045.000000  21045.000000  21045.000000  21045.000000   \n",
      "mean   2.017718e+11      6.565883     12.627845     37.121941     29.285117   \n",
      "std    4.579846e+07      2.983958      1.672952     23.823011     12.366820   \n",
      "min    2.017050e+11      1.000000     10.000000      0.000000    -19.981770   \n",
      "25%    2.017110e+11      4.000000     11.000000     17.529300     21.915280   \n",
      "50%    2.018030e+11      7.000000     13.000000     33.123780     30.289150   \n",
      "75%    2.018060e+11      9.000000     14.000000     52.593990     37.474670   \n",
      "max    2.018100e+11     12.000000     15.000000     99.987790     65.738370   \n",
      "\n",
      "            PolyPwr    Wind.Speed    Visibility      Pressure  Cloud.Ceiling  \n",
      "count  21045.000000  21045.000000  21045.000000  21045.000000   21045.000000  \n",
      "mean      12.978583     10.318318      9.700071    925.944747     515.966785  \n",
      "std        7.123255      6.385030      1.351949     85.215659     301.903379  \n",
      "min        0.257330      0.000000      0.000000    781.700000       0.000000  \n",
      "25%        6.404570      6.000000     10.000000    845.500000     140.000000  \n",
      "50%       13.798700      9.000000     10.000000    961.100000     722.000000  \n",
      "75%       18.863650     14.000000     10.000000   1008.900000     722.000000  \n",
      "max       34.285020     49.000000     10.000000   1029.500000     722.000000  \n",
      "\n",
      "\n",
      "Target Variable:\n",
      "count    21045.000000\n",
      "mean        12.978583\n",
      "std          7.123255\n",
      "min          0.257330\n",
      "25%          6.404570\n",
      "50%         13.798700\n",
      "75%         18.863650\n",
      "max         34.285020\n",
      "Name: PolyPwr, dtype: float64\n",
      "\n",
      "\n",
      "Shape of DataFrame:    (21045, 17)\n"
     ]
    }
   ],
   "source": [
    "print(f\"\"\"                           < Summary Statistics: >\n",
    "\n",
    "{df.describe()}\n",
    "\n",
    "\n",
    "Target Variable:\n",
    "{df[\"PolyPwr\"].describe()}\n",
    "\n",
    "\n",
    "Shape of DataFrame:    {df.shape}\"\"\")"
   ]
  },
  {
   "cell_type": "markdown",
   "id": "13bdd538",
   "metadata": {},
   "source": [
    " "
   ]
  },
  {
   "cell_type": "markdown",
   "id": "d039dc9e",
   "metadata": {},
   "source": [
    "#### Heat Map"
   ]
  },
  {
   "cell_type": "code",
   "execution_count": null,
   "id": "167eddf6",
   "metadata": {},
   "outputs": [],
   "source": [
    "f, ax = plt.subplots(figsize=(15,15))\n",
    "sns.heatmap(df.corr(), vmin=-1, vmax=1,cmap= 'gist_stern',annot=True,linewidth=0.5,square=True)\n",
    "plt.show();"
   ]
  },
  {
   "cell_type": "markdown",
   "id": "927f37be",
   "metadata": {},
   "source": [
    " "
   ]
  },
  {
   "cell_type": "markdown",
   "id": "724e28de",
   "metadata": {},
   "source": [
    " "
   ]
  },
  {
   "cell_type": "markdown",
   "id": "790f10ab",
   "metadata": {},
   "source": [
    ">>## Pre-Processing ##"
   ]
  },
  {
   "cell_type": "markdown",
   "id": "6b39527d",
   "metadata": {},
   "source": [
    "### Train / Test Split ###"
   ]
  },
  {
   "cell_type": "code",
   "execution_count": 5,
   "id": "274dcc79",
   "metadata": {},
   "outputs": [],
   "source": [
    "# X, y\n",
    "y = df.loc[:,'PolyPwr']\n",
    "X = df.drop(labels = 'PolyPwr', axis=1)\n",
    "\n",
    "# train / test\n",
    "X_train, X_test, y_train, y_test = train_test_split(X, y, test_size = 0.2)"
   ]
  },
  {
   "cell_type": "markdown",
   "id": "cd9b1ac6",
   "metadata": {},
   "source": [
    "##### Dropped Column DF #####"
   ]
  },
  {
   "cell_type": "code",
   "execution_count": 7,
   "id": "d9d01d26",
   "metadata": {},
   "outputs": [],
   "source": [
    "y_drop = df.loc[:,'PolyPwr']\n",
    "X = df.drop(labels = 'PolyPwr', axis=1)\n"
   ]
  },
  {
   "cell_type": "code",
   "execution_count": 10,
   "id": "e1c65ed9",
   "metadata": {},
   "outputs": [
    {
     "name": "stdout",
     "output_type": "stream",
     "text": [
      "test: (4209, 16)\n",
      "train: (16836, 16)\n"
     ]
    }
   ],
   "source": [
    "print(f\"test: {X_test.shape}\")\n",
    "print(f\"train: {X_train.shape}\")\n"
   ]
  },
  {
   "cell_type": "markdown",
   "id": "098a0380",
   "metadata": {},
   "source": [
    "### One Hot Encoding  / Drop ###"
   ]
  },
  {
   "cell_type": "markdown",
   "id": "a4c936f4",
   "metadata": {},
   "source": [
    "\n",
    "#### Train #####"
   ]
  },
  {
   "cell_type": "code",
   "execution_count": null,
   "id": "454ae163",
   "metadata": {},
   "outputs": [],
   "source": [
    "# OHE - \n",
    "# Season                                                                                           \n",
    "dum_season = pd.get_dummies(X_train.loc[:,'Season'], dtype='int64')       # APPLY METHOD TO COLUMN -> SAVE AS DUM\n",
    "X_train = pd.concat((X_train,dum_season), axis = 1)                       # ADD new COLUMNS                                           \n",
    "X_train.drop('Season', axis=1,inplace=True)                               # DROP old COLUMN \n",
    "\n",
    "\n",
    "# DROP - \n",
    "# Location\n",
    "X_train.drop('Location', axis=1,inplace=True)\n",
    "# Longitude\n",
    "X_train.drop('Longitude', axis=1,inplace=True)\n",
    "# Altitude\n",
    "X_train.drop('Altitude', axis=1,inplace=True)\n",
    "# YRMODAHRMI\n",
    "X_train.drop('YRMODAHRMI', axis=1,inplace=True)"
   ]
  },
  {
   "cell_type": "markdown",
   "id": "eaf71f96",
   "metadata": {},
   "source": [
    "#### Test #####"
   ]
  },
  {
   "cell_type": "code",
   "execution_count": null,
   "id": "a55f2444",
   "metadata": {},
   "outputs": [],
   "source": [
    "# OHE - \n",
    "# Season\n",
    "dum_season = pd.get_dummies(X_test.loc[:,'Season'], dtype='int64')     \n",
    "X_test = pd.concat((X_test,dum_season), axis = 1)\n",
    "X_test.drop('Season', axis=1,inplace=True)                               \n",
    "\n",
    "# DROP - \n",
    "# Location                                                                   \n",
    "X_test.drop('Location', axis=1,inplace=True)\n",
    "# Longitude\n",
    "X_test.drop('Longitude', axis=1,inplace=True)\n",
    "# Altitude\n",
    "X_test.drop('Altitude', axis=1,inplace=True)\n",
    "# YRMODAHRMI\n",
    "X_test.drop('YRMODAHRMI', axis=1,inplace=True)"
   ]
  },
  {
   "cell_type": "markdown",
   "id": "5c274d68",
   "metadata": {},
   "source": [
    "##### Column Index ######"
   ]
  },
  {
   "cell_type": "code",
   "execution_count": null,
   "id": "d179a666",
   "metadata": {},
   "outputs": [],
   "source": [
    "columns= {}\n",
    "for i in range(len(X_train.columns)):\n",
    "     columns[i] = X_train.columns[i]\n",
    "columns = pd.DataFrame.from_dict(columns,orient='index')    \n",
    "columns"
   ]
  },
  {
   "cell_type": "markdown",
   "id": "9120998b",
   "metadata": {},
   "source": [
    " "
   ]
  },
  {
   "cell_type": "markdown",
   "id": "da6541ce",
   "metadata": {},
   "source": [
    "### Scaler ###"
   ]
  },
  {
   "cell_type": "code",
   "execution_count": null,
   "id": "199156ea",
   "metadata": {},
   "outputs": [],
   "source": [
    "scaler = StandardScaler()"
   ]
  },
  {
   "cell_type": "markdown",
   "id": "cba2ef8a",
   "metadata": {},
   "source": [
    " "
   ]
  },
  {
   "cell_type": "markdown",
   "id": "dac073ae",
   "metadata": {},
   "source": [
    "### Code Functions"
   ]
  },
  {
   "cell_type": "markdown",
   "id": "bb475f20",
   "metadata": {},
   "source": [
    "#### Cross Validator ###"
   ]
  },
  {
   "cell_type": "code",
   "execution_count": null,
   "id": "4d082892",
   "metadata": {},
   "outputs": [],
   "source": [
    "cv = KFold(n_splits = 3, shuffle=True)"
   ]
  },
  {
   "cell_type": "markdown",
   "id": "57ef8f44",
   "metadata": {},
   "source": [
    "#### Pipelines ####"
   ]
  },
  {
   "cell_type": "code",
   "execution_count": null,
   "id": "77df6a25",
   "metadata": {},
   "outputs": [],
   "source": [
    "pipes = {}\n",
    "def add_pipe(pipe, name):\n",
    "    if name in pipes.keys():\n",
    "        print(f\"A pipe called '{name}' already exists!\")\n",
    "        new_name = input(\"Enter another name:]\")\n",
    "        pipes[f\"{new_name}\"] = pipe\n",
    "        print(f\"'{new_name}' added to 'pipes'\")\n",
    "    else:\n",
    "        pipes[f'{name}'] = pipe\n",
    "        print(f\"'{name}' added to 'pipes'\")"
   ]
  },
  {
   "cell_type": "markdown",
   "id": "c935f795",
   "metadata": {},
   "source": [
    "#### Learning Curves ####"
   ]
  },
  {
   "cell_type": "code",
   "execution_count": null,
   "id": "f087fd60",
   "metadata": {},
   "outputs": [],
   "source": [
    "def plot_lc(model):\n",
    "    metrics =  [['MAE', 'neg_mean_absolute_error'],['RMSE','neg_root_mean_squared_error'], ['R2','r2']]\n",
    "    for i in range(len(metrics)):\n",
    "        print(f'Scoring Measure: {metrics[i][0]}')\n",
    "        plot_learning_curve(pipes[model], X_train_sel, y_train, cv=cv, n_jobs=-1, scoring=metrics[i][1])\n",
    "        plt.show();\n",
    "       "
   ]
  },
  {
   "cell_type": "markdown",
   "id": "34bd0e32",
   "metadata": {},
   "source": [
    "#### Add Scores ####"
   ]
  },
  {
   "cell_type": "code",
   "execution_count": null,
   "id": "ea346e84",
   "metadata": {},
   "outputs": [],
   "source": [
    "scores = {}\n",
    "def add_scores(score, model):\n",
    "    if model in scores.keys():\n",
    "        print(f\"A pipe called '{model}' already exists!\")\n",
    "        new_model = input(\"Enter another model name :] \")\n",
    "        scores[f\"{new_model}\"] = score\n",
    "        print(f\"'{new_model}' added to 'scores'\")\n",
    "    else:\n",
    "        scores[f'{model}'] = scores\n",
    "        print(f\"'{model}' added to 'scores'\")"
   ]
  },
  {
   "cell_type": "markdown",
   "id": "a4972b89",
   "metadata": {},
   "source": [
    " "
   ]
  },
  {
   "cell_type": "markdown",
   "id": "bd581fab",
   "metadata": {},
   "source": [
    ">>## Continued Data Analysis ##"
   ]
  },
  {
   "cell_type": "markdown",
   "id": "dae879ab",
   "metadata": {},
   "source": [
    "#### Shapes"
   ]
  },
  {
   "cell_type": "code",
   "execution_count": null,
   "id": "dd4e9bb3",
   "metadata": {},
   "outputs": [],
   "source": [
    "shapes = f\"X shape = {X.shape}, y shape =  {y.shape}, \\n\\\n",
    "X_train shape = {X_train.shape} y_train shape = {y_train.shape} \\n\\\n",
    "X_test shape = {X_test.shape}, y_test.shape = {y_test.shape}\"\n",
    "print(shapes)"
   ]
  },
  {
   "cell_type": "markdown",
   "id": "a75e90af",
   "metadata": {},
   "source": [
    "#### Modified Dataframe ####\n",
    "( For 2nd Heat Map )"
   ]
  },
  {
   "cell_type": "code",
   "execution_count": null,
   "id": "f13884f4",
   "metadata": {},
   "outputs": [],
   "source": [
    "#  CREATE DF SANS DROP COLUMNS\n",
    "\n",
    "# OHE - \n",
    "# Season                                                                                           \n",
    "dum_season = pd.get_dummies(X.loc[:,'Season'], dtype='int64')       # APPLY METHOD TO COLUMN -> SAVE AS DUM\n",
    "df_mod = pd.concat((df,dum_season), axis = 1)                       # ADD new COLUMNS                                           \n",
    "df_mod.drop('Season', axis=1,inplace=True)                               # DROP old COLUMN \n",
    "\n",
    "\n",
    "# DROP - \n",
    "# Location\n",
    "df_mod.drop('Location', axis=1,inplace=True)\n",
    "# Longitude\n",
    "df_mod.drop('Longitude', axis=1,inplace=True)\n",
    "# Altitude\n",
    "df_mod.drop('Altitude', axis=1,inplace=True)\n",
    "# YRMODAHRMI\n",
    "df_mod.drop('YRMODAHRMI', axis=1,inplace=True)"
   ]
  },
  {
   "cell_type": "markdown",
   "id": "d47abf15",
   "metadata": {},
   "source": [
    "#### 2nd Heat Map"
   ]
  },
  {
   "cell_type": "code",
   "execution_count": null,
   "id": "ec597ac9",
   "metadata": {},
   "outputs": [],
   "source": [
    "# Correlation object\n",
    "corr= df_mod.corr()\n",
    "# Getting the Upper Triangle of the co-relation matrix\n",
    "matrix = np.triu(corr)\n",
    "\n",
    "# PLOT\n",
    "f, ax = plt.subplots(figsize=(15,15))\n",
    "sns.heatmap(corr, vmin=-1, vmax=1,cmap= 'gist_stern',annot=True,linewidth=0.5,square=True,mask=matrix)\n",
    "plt.show();\n"
   ]
  },
  {
   "cell_type": "markdown",
   "id": "ebdf0adc",
   "metadata": {},
   "source": [
    " \n",
    " "
   ]
  },
  {
   "cell_type": "markdown",
   "id": "f935c72e",
   "metadata": {},
   "source": [
    ">>## Feature Selection ##"
   ]
  },
  {
   "cell_type": "markdown",
   "id": "bca9ed63",
   "metadata": {},
   "source": [
    " "
   ]
  },
  {
   "cell_type": "markdown",
   "id": "aa9dce0c",
   "metadata": {},
   "source": [
    ">### Recursive Feature Elimination ###  \n",
    ">###### ( RFE ) #####"
   ]
  },
  {
   "cell_type": "markdown",
   "id": "95bbe5a9",
   "metadata": {},
   "source": [
    "#### Pipeline  ####"
   ]
  },
  {
   "cell_type": "markdown",
   "id": "abcbaa46",
   "metadata": {},
   "source": [
    ">Model"
   ]
  },
  {
   "cell_type": "code",
   "execution_count": null,
   "id": "c24e5b5a",
   "metadata": {},
   "outputs": [],
   "source": [
    "etr = ExtraTreesRegressor()"
   ]
  },
  {
   "cell_type": "markdown",
   "id": "ff600aa8",
   "metadata": {},
   "source": [
    ">Pipeline"
   ]
  },
  {
   "cell_type": "code",
   "execution_count": null,
   "id": "d9626b3f",
   "metadata": {},
   "outputs": [],
   "source": [
    "rfe = RFE(etr)\n",
    "pipe_rfe = Pipeline([('scaler', StandardScaler()),('rfe',rfe),('etr',etr)])\n",
    "add_pipe(pipe_rfe, 'rfe')"
   ]
  },
  {
   "cell_type": "markdown",
   "id": "7ed04513",
   "metadata": {},
   "source": [
    "#### Learning Curve ####"
   ]
  },
  {
   "cell_type": "code",
   "execution_count": null,
   "id": "4822932e",
   "metadata": {},
   "outputs": [],
   "source": [
    "plot_learning_curve(pipe_rfe,X_train,y_train, title=\"RFE Learning Curve\", cv=cv, n_jobs=-1,scoring='r2');"
   ]
  },
  {
   "cell_type": "markdown",
   "id": "d0059a83",
   "metadata": {},
   "source": [
    "#### Cross Validate RFE Pipeline"
   ]
  },
  {
   "cell_type": "code",
   "execution_count": null,
   "id": "0b40603e",
   "metadata": {},
   "outputs": [],
   "source": [
    "rfe_score = cross_val_score(pipe_rfe, X_train, y_train, cv=cv, n_jobs=-1)\n",
    "np.mean(rfe_score)"
   ]
  },
  {
   "cell_type": "markdown",
   "id": "d21e93f8",
   "metadata": {},
   "source": [
    " "
   ]
  },
  {
   "cell_type": "markdown",
   "id": "176a2f89",
   "metadata": {},
   "source": [
    "###### Get Feature Importances"
   ]
  },
  {
   "cell_type": "code",
   "execution_count": null,
   "id": "d3424605",
   "metadata": {},
   "outputs": [],
   "source": [
    "#    FIT\n",
    "pipe_rfe.fit(X_train, y_train)                     \n",
    "\n",
    "#    ATTR KEY\n",
    "attribute_rfe = pipe_rfe.named_steps.etr           \n",
    "support = pipe_rfe.named_steps['rfe'].support_\n",
    "\n",
    "#    GET IMPORTANCES\n",
    "feature_importances = pipe_rfe.named_steps['etr'].feature_importances_\n",
    "\n",
    "#    RANKING DF\n",
    "f = support\n",
    "rfe_ranking = pd.DataFrame(support,index=X_train.columns,columns=['Rank']).sort_values(by='Rank',ascending=True)\n",
    " "
   ]
  },
  {
   "cell_type": "markdown",
   "id": "55cb76fb",
   "metadata": {},
   "source": [
    " "
   ]
  },
  {
   "cell_type": "markdown",
   "id": "fa7c4dc1",
   "metadata": {},
   "source": [
    "##### Display Scores"
   ]
  },
  {
   "cell_type": "code",
   "execution_count": null,
   "id": "cb052e3c",
   "metadata": {},
   "outputs": [],
   "source": [
    "rfe_score"
   ]
  },
  {
   "cell_type": "markdown",
   "id": "e14c64e4",
   "metadata": {},
   "source": [
    "##### Display Importances"
   ]
  },
  {
   "cell_type": "code",
   "execution_count": null,
   "id": "9ed9c8b7",
   "metadata": {},
   "outputs": [],
   "source": [
    "for name, importance in zip(X_train.loc[:,:], feature_importances):\n",
    "    print(name, \"=\", importance)"
   ]
  },
  {
   "cell_type": "markdown",
   "id": "74ca2be3",
   "metadata": {},
   "source": [
    " "
   ]
  },
  {
   "cell_type": "markdown",
   "id": "f1ef073f",
   "metadata": {},
   "source": [
    "##### Plot Importances"
   ]
  },
  {
   "cell_type": "code",
   "execution_count": null,
   "id": "63837b1f",
   "metadata": {},
   "outputs": [],
   "source": [
    "features = X_train.columns\n",
    "importances = feature_importances\n",
    "indices = np.argsort(importances)\n",
    "\n",
    "plt.title('RFE Importances')\n",
    "plt.barh(range(len(indices)), importances[indices], color='m', align='center')\n",
    "plt.yticks(range(len(indices)), [features[i] for i in indices])\n",
    "plt.xlabel('Relative Importance')\n",
    "plt.show()\n",
    "\n",
    "indices = np.argsort(importances)"
   ]
  },
  {
   "cell_type": "markdown",
   "id": "67292dab",
   "metadata": {},
   "source": [
    " "
   ]
  },
  {
   "cell_type": "markdown",
   "id": "1fccc1aa",
   "metadata": {},
   "source": [
    "   "
   ]
  },
  {
   "cell_type": "markdown",
   "id": "781f6b82",
   "metadata": {},
   "source": [
    ">### Recursive Feature Extraction w/ Cross Validation ###\n",
    ">###### ( RFECV ) #####"
   ]
  },
  {
   "cell_type": "markdown",
   "id": "d1e88440",
   "metadata": {},
   "source": [
    "#### Pipeline"
   ]
  },
  {
   "cell_type": "markdown",
   "id": "98a75573",
   "metadata": {},
   "source": [
    ">Model"
   ]
  },
  {
   "cell_type": "code",
   "execution_count": null,
   "id": "63e2bbdd",
   "metadata": {},
   "outputs": [],
   "source": [
    "etr_2 = ExtraTreesRegressor()"
   ]
  },
  {
   "cell_type": "markdown",
   "id": "4b2e7a4e",
   "metadata": {},
   "source": [
    ">Build / Add Pipe"
   ]
  },
  {
   "cell_type": "code",
   "execution_count": null,
   "id": "fabd2f63",
   "metadata": {},
   "outputs": [],
   "source": [
    "rfecv = RFECV(etr_2)\n",
    "pipe_rfecv = Pipeline([('scaler', StandardScaler()),('rfecv',rfecv),('etr_2',etr_2)])\n",
    "add_pipe(pipe_rfecv, 'rfecv')"
   ]
  },
  {
   "cell_type": "markdown",
   "id": "3e15bacc",
   "metadata": {},
   "source": [
    " "
   ]
  },
  {
   "cell_type": "markdown",
   "id": "82115b35",
   "metadata": {},
   "source": [
    "#### Learning Curve ####"
   ]
  },
  {
   "cell_type": "code",
   "execution_count": null,
   "id": "9ad31567",
   "metadata": {},
   "outputs": [],
   "source": [
    "plot_learning_curve(pipe_rfecv,X_train,y_train, title=\"RFECV Learning Curve\", cv=cv, n_jobs=-1,scoring='r2');"
   ]
  },
  {
   "cell_type": "markdown",
   "id": "4d3cbfca",
   "metadata": {},
   "source": [
    " "
   ]
  },
  {
   "cell_type": "markdown",
   "id": "843776c5",
   "metadata": {},
   "source": [
    "##### Get Feature Importances"
   ]
  },
  {
   "cell_type": "code",
   "execution_count": null,
   "id": "5c9b5b0b",
   "metadata": {},
   "outputs": [],
   "source": [
    "#    Taken from Sklearn: https://scikit-learn.org/stable/auto_examples/feature_selection/plot_rfe_with_cross_validation.html#sphx-glr-auto-examples-feature-selection-plot-rfe-with-cross-validation-py\n",
    "min_features_to_select = 1\n",
    "\n",
    "#    FIT\n",
    "pipe_rfecv.fit(X_train, y_train)                                                          \n",
    "\n",
    "#    ATTR KEY\n",
    "attribute_rfecv = pipe_rfecv.named_steps.etr_2           \n",
    "support_2 = pipe_rfecv.named_steps['rfecv'].support_\n",
    "\n",
    "#    GET IMPORTANCES\n",
    "feature_importances_2 = pipe_rfecv.named_steps['etr_2'].feature_importances_\n",
    "\n",
    "#    RANKING DF\n",
    "f = support_2\n",
    "rfecv_ranking = pd.DataFrame(support,index=X_train.columns,columns=['Rank']).sort_values(by='Rank',ascending=True)\n",
    "\n",
    "print(\"Optimal number of features : %d\" % rfecv.n_features_)"
   ]
  },
  {
   "cell_type": "markdown",
   "id": "5b003c57",
   "metadata": {},
   "source": [
    "#### Plot n_Features vs. CV Scores #####"
   ]
  },
  {
   "cell_type": "code",
   "execution_count": null,
   "id": "5c56f361",
   "metadata": {},
   "outputs": [],
   "source": [
    "min_features_to_select = 1\n",
    "plt.figure()\n",
    "plt.xlabel(\"Number of features selected\")\n",
    "plt.ylabel(\"Cross validation score (R2)\")\n",
    "plt.plot(\n",
    "    range(min_features_to_select, len(rfecv.grid_scores_) + min_features_to_select),\n",
    "    rfecv.grid_scores_,\n",
    ")\n",
    "plt.title(\"RFECV\")\n",
    "plt.show();"
   ]
  },
  {
   "cell_type": "markdown",
   "id": "e7fe8526",
   "metadata": {},
   "source": [
    "##### Display Importances"
   ]
  },
  {
   "cell_type": "code",
   "execution_count": null,
   "id": "862bd984",
   "metadata": {},
   "outputs": [],
   "source": [
    "for name, importance in zip(X_train.loc[:,:], feature_importances_2):\n",
    "    print(name, \"=\", importance)"
   ]
  },
  {
   "cell_type": "markdown",
   "id": "fec3934e",
   "metadata": {},
   "source": [
    " "
   ]
  },
  {
   "cell_type": "markdown",
   "id": "c35ea3f7",
   "metadata": {},
   "source": [
    "##### Plot Importances"
   ]
  },
  {
   "cell_type": "code",
   "execution_count": null,
   "id": "8692bcd1",
   "metadata": {},
   "outputs": [],
   "source": [
    "features = X_train.columns\n",
    "importances = feature_importances_2\n",
    "indices = np.argsort(importances)\n",
    "\n",
    "plt.title('RFECV Importances')\n",
    "plt.barh(range(len(indices)), importances[indices], color='m', align='center')\n",
    "plt.yticks(range(len(indices)), [features[i] for i in indices])\n",
    "plt.xlabel('Relative Importance')\n",
    "plt.show()\n",
    "\n",
    "\n",
    "indices = np.argsort(importances)"
   ]
  },
  {
   "cell_type": "markdown",
   "id": "41e17b98",
   "metadata": {},
   "source": [
    " "
   ]
  },
  {
   "cell_type": "markdown",
   "id": "8ba91537",
   "metadata": {},
   "source": [
    "### Transform Data"
   ]
  },
  {
   "cell_type": "markdown",
   "id": "2e06792b",
   "metadata": {},
   "source": [
    ">TRAINING"
   ]
  },
  {
   "cell_type": "code",
   "execution_count": null,
   "id": "3b891f1d",
   "metadata": {},
   "outputs": [],
   "source": [
    "# FIT\n",
    "pipe_rfecv.fit(X_train, y_train)\n",
    "# ATTR KEY\n",
    "attribute_rfecv = pipe_rfecv.named_steps.rfecv            \n",
    "f = attribute_rfecv.get_support(1)\n",
    "# transform\n",
    "X_train_sel = X_train[X_train.columns[f]]           "
   ]
  },
  {
   "cell_type": "code",
   "execution_count": null,
   "id": "0b088e26",
   "metadata": {},
   "outputs": [],
   "source": [
    "X_train_sel.columns"
   ]
  },
  {
   "cell_type": "markdown",
   "id": "cd7aa1d2",
   "metadata": {},
   "source": [
    ">TEST"
   ]
  },
  {
   "cell_type": "code",
   "execution_count": null,
   "id": "845d7724",
   "metadata": {},
   "outputs": [],
   "source": [
    "X_train.columns[f]"
   ]
  },
  {
   "cell_type": "code",
   "execution_count": null,
   "id": "bc7d216b",
   "metadata": {},
   "outputs": [],
   "source": [
    "X_test_sel = X_test[X_train.columns[f]]           # transform"
   ]
  },
  {
   "cell_type": "code",
   "execution_count": null,
   "id": "dc46074b",
   "metadata": {},
   "outputs": [],
   "source": [
    "X_test_sel.columns"
   ]
  },
  {
   "cell_type": "markdown",
   "id": "a3d46b30",
   "metadata": {},
   "source": [
    " "
   ]
  },
  {
   "cell_type": "markdown",
   "id": "109490a3",
   "metadata": {},
   "source": [
    "#### New Column Index ######"
   ]
  },
  {
   "cell_type": "code",
   "execution_count": null,
   "id": "5bdc57f0",
   "metadata": {},
   "outputs": [],
   "source": [
    "columns_sel = {}\n",
    "for i in range(len(X_train_sel.columns)):\n",
    "     columns_sel[i] = X_train_sel.columns[i]\n",
    "columns_sel = pd.DataFrame.from_dict(columns_sel,orient='index')    \n",
    "columns_sel"
   ]
  },
  {
   "cell_type": "markdown",
   "id": "b57fc55f",
   "metadata": {},
   "source": [
    " "
   ]
  },
  {
   "cell_type": "markdown",
   "id": "e869e946",
   "metadata": {},
   "source": [
    "##### Pair Plot"
   ]
  },
  {
   "cell_type": "code",
   "execution_count": null,
   "id": "4df58d65",
   "metadata": {},
   "outputs": [],
   "source": [
    "df_train_sel = pd.concat((X_train_sel,y_train), axis = 1)\n",
    "sns.pairplot(df_train_sel);\n",
    "\n"
   ]
  },
  {
   "cell_type": "markdown",
   "id": "f94b0b6f",
   "metadata": {},
   "source": [
    " "
   ]
  },
  {
   "cell_type": "markdown",
   "id": "e0babfee",
   "metadata": {},
   "source": [
    " "
   ]
  },
  {
   "cell_type": "markdown",
   "id": "7c96feb9",
   "metadata": {},
   "source": [
    ">>## Models ##"
   ]
  },
  {
   "cell_type": "markdown",
   "id": "aa6512f3",
   "metadata": {},
   "source": [
    ">### Dummy Regressor ###  \n",
    ">*( Baseline )*"
   ]
  },
  {
   "cell_type": "markdown",
   "id": "f9996951",
   "metadata": {},
   "source": [
    "#### Model ####"
   ]
  },
  {
   "cell_type": "code",
   "execution_count": null,
   "id": "efa0b6ae",
   "metadata": {},
   "outputs": [],
   "source": [
    "dummy = DummyRegressor()"
   ]
  },
  {
   "cell_type": "markdown",
   "id": "114ae7a1",
   "metadata": {},
   "source": [
    "#### Pipeline ####"
   ]
  },
  {
   "cell_type": "code",
   "execution_count": null,
   "id": "75ff9e49",
   "metadata": {},
   "outputs": [],
   "source": [
    "pipe_dummy = Pipeline([('scaler', StandardScaler()),('dummy', DummyRegressor())])\n",
    "add_pipe(pipe_dummy, 'dummy')"
   ]
  },
  {
   "cell_type": "markdown",
   "id": "2c84c9db",
   "metadata": {},
   "source": [
    "> #### Learning Curve ####"
   ]
  },
  {
   "cell_type": "code",
   "execution_count": null,
   "id": "e21da154",
   "metadata": {},
   "outputs": [],
   "source": [
    "plot_lc('dummy')"
   ]
  },
  {
   "cell_type": "markdown",
   "id": "ed9b10ca",
   "metadata": {},
   "source": [
    "#### Cross Validation #### "
   ]
  },
  {
   "cell_type": "code",
   "execution_count": null,
   "id": "8ce766ad",
   "metadata": {},
   "outputs": [],
   "source": [
    "score_dummy = cross_val_predict(pipe_dummy, X_train_sel, y_train, cv = cv,n_jobs=-1)"
   ]
  },
  {
   "cell_type": "markdown",
   "id": "ef43cd42",
   "metadata": {},
   "source": [
    "> #### KFold Validation ####"
   ]
  },
  {
   "cell_type": "code",
   "execution_count": null,
   "id": "54a938e1",
   "metadata": {},
   "outputs": [],
   "source": [
    "scores_ = []\n",
    "fig = plt.figure()\n",
    "i = 1\n",
    "for train, test in cv.split(X_train_sel, y_train):\n",
    "    model = DummyRegressor()\n",
    "    prediction = pipe_dummy.fit(X_train_sel.iloc[train], y_train.iloc[train]).predict(X_train_sel.iloc[test])\n",
    "    true = y_train.iloc[test]\n",
    "    score = r2_score(true, prediction)\n",
    "    scores_.append(score)\n",
    "    plt.scatter(prediction, true, lw=2, alpha=0.3, \n",
    "                label='Fold %d (R2 = %0.2f)' % (i,score))\n",
    "    i = i+1\n",
    "\n",
    "plt.plot([min(y_train),max(y_train)], [min(y_train),max(y_train)], \n",
    "         linestyle='--', lw=2, color='black')\n",
    "plt.xlabel('Predicted')\n",
    "plt.ylabel('True')\n",
    "plt.title('K-Fold Validation')\n",
    "plt.legend()\n",
    "plt.show()\n"
   ]
  },
  {
   "cell_type": "markdown",
   "id": "e1bf09ba",
   "metadata": {},
   "source": [
    "### Test: Dummy ###\n"
   ]
  },
  {
   "cell_type": "markdown",
   "id": "18cdba8e",
   "metadata": {},
   "source": [
    "#### Initiate Model ####"
   ]
  },
  {
   "cell_type": "code",
   "execution_count": null,
   "id": "60afe195",
   "metadata": {},
   "outputs": [],
   "source": [
    "test_dummy = pipes['dummy']"
   ]
  },
  {
   "cell_type": "markdown",
   "id": "e2f0eac2",
   "metadata": {},
   "source": [
    "#### Fit ####"
   ]
  },
  {
   "cell_type": "code",
   "execution_count": null,
   "id": "7d6b97fa",
   "metadata": {},
   "outputs": [],
   "source": [
    "test_dummy.fit(X_train_sel, y_train)"
   ]
  },
  {
   "cell_type": "markdown",
   "id": "b020f9c4",
   "metadata": {},
   "source": [
    "##### Predict #####"
   ]
  },
  {
   "cell_type": "code",
   "execution_count": null,
   "id": "a118be12",
   "metadata": {},
   "outputs": [],
   "source": [
    "pred_dummy = test_dummy.predict(X_test_sel)"
   ]
  },
  {
   "cell_type": "markdown",
   "id": "1e67b628",
   "metadata": {},
   "source": [
    "##### Scores"
   ]
  },
  {
   "cell_type": "markdown",
   "id": "4077cbed",
   "metadata": {},
   "source": [
    "> Store Scores  "
   ]
  },
  {
   "cell_type": "code",
   "execution_count": null,
   "id": "c825da5d",
   "metadata": {},
   "outputs": [],
   "source": [
    "dummy_mae = mean_absolute_error(y_test, pred_dummy)\n",
    "dummy_rmse = mean_squared_error(y_test, pred_dummy, squared=False)\n",
    "dummy_r2 = r2_score(y_test, pred_dummy)\n",
    "dummy_ev = explained_variance_score(y_test, pred_dummy)\n",
    "\n",
    "dummy_scores = {\"MAE\":dummy_mae,\n",
    "             \"RMSE\":dummy_rmse,\n",
    "             \"R2\":dummy_r2,\n",
    "               \"Expl_Var\":dummy_ev}"
   ]
  },
  {
   "cell_type": "markdown",
   "id": "f20e2293",
   "metadata": {},
   "source": [
    "> Display Score "
   ]
  },
  {
   "cell_type": "code",
   "execution_count": null,
   "id": "08135299",
   "metadata": {},
   "outputs": [],
   "source": [
    "print(\"Scores for Dummy Model:\")\n",
    "print()\n",
    "for k,v in dummy_scores.items():\n",
    "    print(f\"{k:<9}:{(str(round(v, 3))):>6}\")\n",
    "    "
   ]
  },
  {
   "cell_type": "markdown",
   "id": "09e52c07",
   "metadata": {},
   "source": [
    "> Add Results to 'scores'"
   ]
  },
  {
   "cell_type": "code",
   "execution_count": null,
   "id": "bd97a666",
   "metadata": {},
   "outputs": [],
   "source": [
    "add_scores(dummy_scores, 'Dummy')"
   ]
  },
  {
   "cell_type": "markdown",
   "id": "dd0f2376",
   "metadata": {},
   "source": [
    "##### Display Results #####"
   ]
  },
  {
   "cell_type": "code",
   "execution_count": null,
   "id": "e2cfbf9d",
   "metadata": {},
   "outputs": [],
   "source": [
    "print(\"Scores for SGD Model:\")\n",
    "print()\n",
    "for k,v in dummy_scores.items():\n",
    "    print(f\"{k:<9}:{(str(round(v, 3))):>6}\")\n",
    "    "
   ]
  },
  {
   "cell_type": "markdown",
   "id": "6c05ab5b",
   "metadata": {},
   "source": [
    "##### Plot Predictions vs True"
   ]
  },
  {
   "cell_type": "code",
   "execution_count": null,
   "id": "b3fc92fe",
   "metadata": {},
   "outputs": [],
   "source": [
    "plt.figure(figsize=(10,8))\n",
    "plt.scatter(y_test, pred_dummy, c='sandybrown')\n",
    "plt.title(\"Dummy\", fontsize=20)\n",
    "p1 = max(max(pred_dummy), max(y_test))\n",
    "p2 = min(min(pred_dummy), min(y_test))\n",
    "plt.plot([p1, p2], [p1, p2], 'b-')\n",
    "plt.xlabel('True Values', fontsize=15)\n",
    "plt.ylabel('Predictions', fontsize=15)\n",
    "plt.axis('equal')\n",
    "plt.show()"
   ]
  },
  {
   "cell_type": "markdown",
   "id": "9eaff18e",
   "metadata": {},
   "source": [
    "##### Plot Residuals"
   ]
  },
  {
   "cell_type": "code",
   "execution_count": null,
   "id": "e415c888",
   "metadata": {},
   "outputs": [],
   "source": [
    "sns.residplot(x=pred_dummy, y=y_test,data=X_test_sel,color='sandybrown')\n",
    "plt.title(\"Dummy: Residuals\");"
   ]
  },
  {
   "cell_type": "markdown",
   "id": "73c7a577",
   "metadata": {},
   "source": [
    " "
   ]
  },
  {
   "cell_type": "markdown",
   "id": "027f1997",
   "metadata": {},
   "source": [
    "##### JointPlot"
   ]
  },
  {
   "cell_type": "code",
   "execution_count": null,
   "id": "72f68238",
   "metadata": {},
   "outputs": [],
   "source": [
    "sns.jointplot(x=pred_dummy, y=y_test, data=X_test_sel, kind=\"hist\", color='sandybrown');"
   ]
  },
  {
   "cell_type": "markdown",
   "id": "57d8ae64",
   "metadata": {},
   "source": [
    " "
   ]
  },
  {
   "cell_type": "markdown",
   "id": "8f963f4a",
   "metadata": {},
   "source": [
    " \n",
    " "
   ]
  },
  {
   "cell_type": "markdown",
   "id": "a0ded3e4",
   "metadata": {},
   "source": [
    ">### RandomForest ###\n",
    ">##### ( Linear Regression ) #####"
   ]
  },
  {
   "cell_type": "markdown",
   "id": "4e738dfd",
   "metadata": {},
   "source": [
    "#### Model ####"
   ]
  },
  {
   "cell_type": "code",
   "execution_count": null,
   "id": "057a0316",
   "metadata": {},
   "outputs": [],
   "source": [
    "rfr = RandomForestRegressor(n_estimators=50)"
   ]
  },
  {
   "cell_type": "markdown",
   "id": "93b639b8",
   "metadata": {},
   "source": [
    "#### Pipeline  ####"
   ]
  },
  {
   "cell_type": "code",
   "execution_count": null,
   "id": "8bd75abc",
   "metadata": {},
   "outputs": [],
   "source": [
    "pipe_rfr = Pipeline([('scaler', StandardScaler()), ('rfr', rfr)])\n",
    "add_pipe(pipe_rfr, 'rfr')"
   ]
  },
  {
   "cell_type": "markdown",
   "id": "5d0763e1",
   "metadata": {},
   "source": [
    " #### Learning Curve  ####"
   ]
  },
  {
   "cell_type": "code",
   "execution_count": null,
   "id": "2f98ceac",
   "metadata": {},
   "outputs": [],
   "source": [
    "plot_lc('rfr')"
   ]
  },
  {
   "cell_type": "markdown",
   "id": "edb716a5",
   "metadata": {},
   "source": [
    "Perform Cross-validation on training data for hyper-parameter tuning   \n",
    "( The following code is from Olaowe. )"
   ]
  },
  {
   "cell_type": "markdown",
   "id": "652e2fae",
   "metadata": {},
   "source": [
    " "
   ]
  },
  {
   "cell_type": "markdown",
   "id": "e7aac45d",
   "metadata": {},
   "source": [
    "## Fit Random Search Model #####\n",
    "\n",
    "The next takes 10+ hours to run. \n",
    "\n",
    "To conitune with the saved results, \n",
    "\n",
    "skip down to the cell that reads: \"SKIP-TO-POINT\""
   ]
  },
  {
   "cell_type": "markdown",
   "id": "1004c707",
   "metadata": {},
   "source": [
    "#### Hyper-parameters to Tune ###\n"
   ]
  },
  {
   "cell_type": "code",
   "execution_count": null,
   "id": "fc019fc5",
   "metadata": {},
   "outputs": [],
   "source": [
    "n_estimators_list = [int(x) for x in np.linspace(start = 100, stop = 1000, num = 100)]\n",
    "max_features_list = ['auto', 'sqrt']\n",
    "max_depth_list = [int(x) for x in np.linspace(10, 110, num=11)]\n",
    "max_depth_list.append(None)\n",
    "min_samples_split_list = [2, 5, 10]\n",
    "min_samples_leaf_list = [1, 2, 4]\n",
    "bootstrap_list = [True, False]"
   ]
  },
  {
   "cell_type": "markdown",
   "id": "7f375691",
   "metadata": {},
   "source": [
    "##### Dictionary of Parameters ####\n"
   ]
  },
  {
   "cell_type": "code",
   "execution_count": null,
   "id": "fd4c829a",
   "metadata": {},
   "outputs": [],
   "source": [
    "grid_rfr = {'rfr__n_estimators': n_estimators_list,\n",
    "           'rfr__max_features': max_features_list,\n",
    "           'rfr__max_depth': max_depth_list,\n",
    "           'rfr__min_samples_split': min_samples_split_list,\n",
    "           'rfr__min_samples_leaf': min_samples_leaf_list,\n",
    "           'rfr__bootstrap': bootstrap_list}"
   ]
  },
  {
   "cell_type": "markdown",
   "id": "f086b034",
   "metadata": {},
   "source": [
    "##### Create Random Search #####\n"
   ]
  },
  {
   "cell_type": "code",
   "execution_count": null,
   "id": "e51d8c27",
   "metadata": {},
   "outputs": [],
   "source": [
    "rcv_rfr = RandomizedSearchCV(estimator=pipe_rfr, param_distributions=grid_rfr, \n",
    "                                 n_iter=500, cv=3, verbose=2, random_state=42, \n",
    "                                 n_jobs=-1)\n"
   ]
  },
  {
   "cell_type": "code",
   "execution_count": null,
   "id": "ad78e82a",
   "metadata": {},
   "outputs": [],
   "source": [
    "%%time\n",
    "\n",
    "rcv_rfr.fit(X_train, y_train)"
   ]
  },
  {
   "cell_type": "markdown",
   "id": "708a9ee7",
   "metadata": {},
   "source": [
    " "
   ]
  },
  {
   "cell_type": "markdown",
   "id": "9367ab52",
   "metadata": {},
   "source": [
    "#### RCV Results: RFR ####"
   ]
  },
  {
   "cell_type": "markdown",
   "id": "c9b6809c",
   "metadata": {},
   "source": [
    "CPU times: user 23.8 s, sys: 1.98 s, total: 25.8 s\n",
    "Wall time: 4h 26min 56s\n",
    "RandomizedSearchCV(cv=3,\n",
    "                   estimator=Pipeline(steps=[('scaler', StandardScaler()),\n",
    "                                             ('rfr',\n",
    "                                              RandomForestRegressor(n_estimators=50))]),\n",
    "                   n_iter=500, n_jobs=-1,\n",
    "                   param_distributions={'rfr__bootstrap': [True, False],\n",
    "                                        'rfr__max_depth': [10, 20, 30, 40, 50,\n",
    "                                                           60, 70, 80, 90, 100,\n",
    "                                                           110, None],\n",
    "                                        'rfr__max_features': ['auto', 'sqrt'],\n",
    "                                        'rfr__min_samples_leaf': [1, 2, 4],\n",
    "                                        'rfr__min_samples_split': [2, 5, 10],\n",
    "                                        'rfr__n_estimators': [100, 109, 118,\n",
    "                                                              127, 136, 145,\n",
    "                                                              154, 163, 172,\n",
    "                                                              181, 190, 200,\n",
    "                                                              209, 218, 227,\n",
    "                                                              236, 245, 254,\n",
    "                                                              263, 272, 281,\n",
    "                                                              290, 300, 309,\n",
    "                                                              318, 327, 336,\n",
    "                                                              345, 354, 363, ...]},\n",
    "                   random_state=42, verbose=2)"
   ]
  },
  {
   "cell_type": "markdown",
   "id": "6dd80357",
   "metadata": {},
   "source": [
    "##### Best Estimator\n",
    "( skip )"
   ]
  },
  {
   "cell_type": "code",
   "execution_count": null,
   "id": "d0fa802b",
   "metadata": {},
   "outputs": [],
   "source": [
    "best_rfr = rcv_rfr.best_estimator_"
   ]
  },
  {
   "cell_type": "markdown",
   "id": "ea03c0fb",
   "metadata": {},
   "source": [
    "##### RCV Scores"
   ]
  },
  {
   "cell_type": "code",
   "execution_count": null,
   "id": "57ac7d51",
   "metadata": {},
   "outputs": [],
   "source": [
    "mean_score_rfr = rcv_rfr.cv_results_['mean_test_score']\n",
    "std_score_rfr = rcv_rfr.cv_results_['std_test_score']\n",
    "params_rfr = rcv_rfr.cv_results_['params']"
   ]
  },
  {
   "cell_type": "code",
   "execution_count": null,
   "id": "d55ff89d",
   "metadata": {},
   "outputs": [],
   "source": [
    "cv_score_df = pd.DataFrame(params_rfr)\n",
    "cv_score_df['mean_score_rfr'] = mean_score_rfr\n",
    "cv_score_df['std_score_rfr'] = std_score_rfr"
   ]
  },
  {
   "cell_type": "code",
   "execution_count": null,
   "id": "f2e56c83",
   "metadata": {},
   "outputs": [],
   "source": [
    "breakdown_rfr = {\"Index\": rcv_rfr.best_index_,\n",
    "\"Params\" : rcv_rfr.best_params_,\n",
    "\"Estimator\" : rcv_rfr.best_estimator_,\n",
    "\"Score\" : rcv_rfr.best_score_}"
   ]
  },
  {
   "cell_type": "markdown",
   "id": "ff73e3a4",
   "metadata": {},
   "source": [
    "##### Run Cell to use saved Hyper-Parameters \n",
    "\n",
    "> SKIP-TO-POINT"
   ]
  },
  {
   "cell_type": "code",
   "execution_count": null,
   "id": "34c917cf",
   "metadata": {},
   "outputs": [],
   "source": [
    "best_rfr = Pipeline(steps=[('scaler', StandardScaler()),\n",
    "                ('rfr',\n",
    "                 RandomForestRegressor(bootstrap=False, max_depth=30,\n",
    "                                       max_features='sqrt',\n",
    "                                       min_samples_split=10,\n",
    "                                       n_estimators=554))])"
   ]
  },
  {
   "cell_type": "markdown",
   "id": "51d166fd",
   "metadata": {},
   "source": [
    "##### Add Best Estimator to Pipes #####"
   ]
  },
  {
   "cell_type": "code",
   "execution_count": null,
   "id": "ddb6c3aa",
   "metadata": {},
   "outputs": [],
   "source": [
    "add_pipe(Pipeline(steps=[('scaler', StandardScaler()),\n",
    "                ('rfr',\n",
    "                 best_rfr)]), \"best_rfr\")\n"
   ]
  },
  {
   "cell_type": "markdown",
   "id": "31f8eba5",
   "metadata": {},
   "source": [
    " "
   ]
  },
  {
   "cell_type": "markdown",
   "id": "fff72f43",
   "metadata": {},
   "source": [
    "#### K-Fold Scores ####"
   ]
  },
  {
   "cell_type": "code",
   "execution_count": null,
   "id": "f84cfbf3",
   "metadata": {},
   "outputs": [],
   "source": [
    "scores_ = []\n",
    "colors = ['midnightblue', 'springgreen', 'goldenrod']\n",
    "fig = plt.figure()\n",
    "i = 0\n",
    "for train, test in cv.split(X_train_sel, y_train):\n",
    "    model = pipes['best_rfr']\n",
    "    prediction = pipe_rfr.fit(X_train_sel.iloc[train], y_train.iloc[train]).predict(X_train_sel.iloc[test])\n",
    "    true = y_train.iloc[test]\n",
    "    score = r2_score(true, prediction)\n",
    "    scores_.append(score)\n",
    "    plt.scatter(prediction, true, c=colors[i],lw=2, alpha=0.3, \n",
    "                label='Fold %d (R2 = %0.2f)' % (i,score))\n",
    "    i = i+1\n",
    "\n",
    "plt.plot([min(y_train),max(y_train)], [min(y_train),max(y_train)], lw=2, color='black')\n",
    "plt.xlabel('Predicted')\n",
    "plt.ylabel('True')\n",
    "plt.title('RFR K-Fold Validation (R2)')\n",
    "plt.legend()\n",
    "plt.show()"
   ]
  },
  {
   "cell_type": "markdown",
   "id": "ca24e784",
   "metadata": {},
   "source": [
    " "
   ]
  },
  {
   "cell_type": "markdown",
   "id": "ae2e2f25",
   "metadata": {},
   "source": [
    "### Test: RFR ###\n"
   ]
  },
  {
   "cell_type": "markdown",
   "id": "18b82a20",
   "metadata": {},
   "source": [
    "#### Initiate Model ####"
   ]
  },
  {
   "cell_type": "code",
   "execution_count": null,
   "id": "1b7c884d",
   "metadata": {},
   "outputs": [],
   "source": [
    "test_rfr = pipes['best_rfr']"
   ]
  },
  {
   "cell_type": "markdown",
   "id": "3b665b3d",
   "metadata": {},
   "source": [
    "#### Fit ####"
   ]
  },
  {
   "cell_type": "code",
   "execution_count": null,
   "id": "95a00401",
   "metadata": {},
   "outputs": [],
   "source": [
    "test_rfr.fit(X_train_sel, y_train)"
   ]
  },
  {
   "cell_type": "markdown",
   "id": "fb71940b",
   "metadata": {},
   "source": [
    "##### Predict #####"
   ]
  },
  {
   "cell_type": "code",
   "execution_count": null,
   "id": "4ca68063",
   "metadata": {},
   "outputs": [],
   "source": [
    "pred_rfr = test_rfr.predict(X_test_sel)"
   ]
  },
  {
   "cell_type": "markdown",
   "id": "a6416b17",
   "metadata": {},
   "source": [
    "##### Scores"
   ]
  },
  {
   "cell_type": "markdown",
   "id": "61af66c5",
   "metadata": {},
   "source": [
    "> Store Scores  "
   ]
  },
  {
   "cell_type": "code",
   "execution_count": null,
   "id": "8001dd62",
   "metadata": {},
   "outputs": [],
   "source": [
    "rfr_mae = mean_absolute_error(y_test, pred_rfr)\n",
    "rfr_rmse = mean_squared_error(y_test, pred_rfr, squared=False)\n",
    "rfr_r2 = r2_score(y_test, pred_rfr)\n",
    "rfr_ev = explained_variance_score(y_test.ravel(), pred_rfr)\n",
    "\n",
    "rfr_scores = {\"MAE\":rfr_mae,\n",
    "             \"RMSE\":rfr_rmse,\n",
    "             \"R2\":rfr_r2,\n",
    "             \"Expl_Var\":rfr_ev}"
   ]
  },
  {
   "cell_type": "markdown",
   "id": "e605c275",
   "metadata": {},
   "source": [
    "> Add to 'scores' "
   ]
  },
  {
   "cell_type": "code",
   "execution_count": null,
   "id": "4f2ce901",
   "metadata": {},
   "outputs": [],
   "source": [
    "add_scores(rfr_scores, 'RFR')"
   ]
  },
  {
   "cell_type": "markdown",
   "id": "7396110f",
   "metadata": {},
   "source": [
    "##### Display Results #####"
   ]
  },
  {
   "cell_type": "code",
   "execution_count": null,
   "id": "9b7a1079",
   "metadata": {},
   "outputs": [],
   "source": [
    "print(\"Scores for RFR Model:\")\n",
    "print()\n",
    "for k,v in rfr_scores.items():\n",
    "    print(f\"{k:<9}:{(str(round(v, 3))):>6}\")"
   ]
  },
  {
   "cell_type": "markdown",
   "id": "5b2e0ea6",
   "metadata": {},
   "source": [
    "##### Plot Predictions vs True"
   ]
  },
  {
   "cell_type": "code",
   "execution_count": null,
   "id": "b9cf9dfd",
   "metadata": {},
   "outputs": [],
   "source": [
    "plt.figure(figsize=(10,8))\n",
    "plt.scatter(y_test, pred_rfr, c='darkgreen')\n",
    "plt.title(\"RFR\", fontsize=20)\n",
    "p1 = max(max(pred_rfr), max(y_test))\n",
    "p2 = min(min(pred_rfr), min(y_test))\n",
    "plt.plot([p1, p2], [p1, p2], 'b-')\n",
    "plt.xlabel('True Values', fontsize=15)\n",
    "plt.ylabel('Predictions', fontsize=15)\n",
    "plt.axis('equal')\n",
    "plt.show()"
   ]
  },
  {
   "cell_type": "markdown",
   "id": "7920f392",
   "metadata": {},
   "source": [
    "##### Plot Residuals"
   ]
  },
  {
   "cell_type": "code",
   "execution_count": null,
   "id": "827d8d6c",
   "metadata": {},
   "outputs": [],
   "source": [
    "sns.residplot(x=pred_rfr, y=y_test,data=X_test_sel,color='darkgreen')\n",
    "plt.title(\"RFR: Residuals\");"
   ]
  },
  {
   "cell_type": "markdown",
   "id": "6e0c1720",
   "metadata": {},
   "source": [
    "##### JointPlot"
   ]
  },
  {
   "cell_type": "code",
   "execution_count": null,
   "id": "487c064e",
   "metadata": {},
   "outputs": [],
   "source": [
    "sns.jointplot(x=pred_rfr, y=y_test, data=X_test_sel, kind=\"hist\", color='darkgreen')\n"
   ]
  },
  {
   "cell_type": "markdown",
   "id": "f7bb1ded",
   "metadata": {},
   "source": [
    " "
   ]
  },
  {
   "cell_type": "markdown",
   "id": "f872c85b",
   "metadata": {},
   "source": [
    "\n",
    " "
   ]
  },
  {
   "cell_type": "markdown",
   "id": "7db4b9d6",
   "metadata": {},
   "source": [
    ">### SGD ###  \n",
    ">##### ( Linear Regression ) #####"
   ]
  },
  {
   "cell_type": "markdown",
   "id": "69c225af",
   "metadata": {},
   "source": [
    "#### Model ####"
   ]
  },
  {
   "cell_type": "code",
   "execution_count": null,
   "id": "cf623a19",
   "metadata": {},
   "outputs": [],
   "source": [
    "sgd = SGDRegressor(loss='squared_loss',\n",
    "                   penalty= 'l2',\n",
    "                   alpha = 0.01,\n",
    "                   max_iter = 4500,\n",
    "                   learning_rate = \"optimal\",\n",
    "                   eta0 = 0.01)"
   ]
  },
  {
   "cell_type": "markdown",
   "id": "e18cb2e3",
   "metadata": {},
   "source": [
    "#### Pipeline ####\n",
    "\n"
   ]
  },
  {
   "cell_type": "code",
   "execution_count": null,
   "id": "a1c8bbaa",
   "metadata": {},
   "outputs": [],
   "source": [
    "pipe_sgd = Pipeline([('scaler', StandardScaler()), ('sgd', sgd)])\n",
    "add_pipe(pipe_sgd, 'sgd')"
   ]
  },
  {
   "cell_type": "markdown",
   "id": "2b400776",
   "metadata": {},
   "source": [
    " #### Learning Curve  ####"
   ]
  },
  {
   "cell_type": "code",
   "execution_count": null,
   "id": "0c77e421",
   "metadata": {},
   "outputs": [],
   "source": [
    "plot_lc('sgd');"
   ]
  },
  {
   "cell_type": "code",
   "execution_count": null,
   "id": "e786e3a9",
   "metadata": {},
   "outputs": [],
   "source": [
    "plot_validation_curve(pipe_sgd, X_train_sel, y_train, cv=cv, param_name='sgd__alpha',param_range=(0.00001,0.1,0.0001),scoring='r2');"
   ]
  },
  {
   "cell_type": "markdown",
   "id": "82261a17",
   "metadata": {},
   "source": [
    " "
   ]
  },
  {
   "cell_type": "markdown",
   "id": "414a0504",
   "metadata": {},
   "source": [
    " "
   ]
  },
  {
   "cell_type": "markdown",
   "id": "ade4a0de",
   "metadata": {},
   "source": [
    "## Fit Random Search Model #####\n",
    "\n",
    "The next few cells take time to run. \n",
    "\n",
    "To conitune with the saved results, \n",
    "\n",
    "skip down to the cell that reads: \"SKIP-TO-POINT\""
   ]
  },
  {
   "cell_type": "markdown",
   "id": "02587ecc",
   "metadata": {},
   "source": [
    "#### Hyper-Parameters to Tune ####"
   ]
  },
  {
   "cell_type": "code",
   "execution_count": null,
   "id": "527fd7a6",
   "metadata": {},
   "outputs": [],
   "source": [
    "loss = ['squared_loss','huber', 'epsilon_insensitive', 'squared_epsilon_insensitive'] \n",
    "penalty = ['l1', 'l2', 'elasticnet'] \n",
    "alpha = [0.0001, 0.001, 0.01, 0.1, 1, 10, 100, 1000] \n",
    "learning_rate = ['constant', 'optimal', 'invscaling', 'adaptive'] \n",
    "eta0 = [1, 10, 100]\n",
    "average = [True, False]"
   ]
  },
  {
   "cell_type": "markdown",
   "id": "c87b645d",
   "metadata": {},
   "source": [
    "#### Dictionary of Parameters ####"
   ]
  },
  {
   "cell_type": "code",
   "execution_count": null,
   "id": "16083d6a",
   "metadata": {},
   "outputs": [],
   "source": [
    "grid_sgd = {'sgd__loss':loss,\n",
    "           'sgd__penalty':penalty,\n",
    "           'sgd__alpha':alpha,\n",
    "           'sgd__learning_rate':learning_rate,\n",
    "           'sgd__average':average,\n",
    "           'sgd__eta0':eta0} "
   ]
  },
  {
   "cell_type": "markdown",
   "id": "8d703c1b",
   "metadata": {},
   "source": [
    "#### Create Random Search ####\n"
   ]
  },
  {
   "cell_type": "code",
   "execution_count": null,
   "id": "096afc46",
   "metadata": {},
   "outputs": [],
   "source": [
    "rcv_sgd = RandomizedSearchCV(estimator=pipe_sgd, param_distributions=grid_sgd, \n",
    "                                 n_iter=1500, cv=3, verbose=2, n_jobs=-1)"
   ]
  },
  {
   "cell_type": "markdown",
   "id": "a4853c80",
   "metadata": {},
   "source": [
    "#### Fit the Random Search Model ####"
   ]
  },
  {
   "cell_type": "code",
   "execution_count": null,
   "id": "4aafaacd",
   "metadata": {},
   "outputs": [],
   "source": [
    "%%time\n",
    "\n",
    "rcv_sgd.fit(X_train, y_train)"
   ]
  },
  {
   "cell_type": "markdown",
   "id": "0c861d1c",
   "metadata": {},
   "source": [
    "CPU times: user 19.6 s, sys: 2.78 s, total: 22.3 s\n",
    "Wall time: 14min 44s\n",
    "RandomizedSearchCV(cv=3,\n",
    "                   estimator=Pipeline(steps=[('scaler', StandardScaler()),\n",
    "                                             ('sgd',\n",
    "                                              SGDRegressor(alpha=0.01,\n",
    "                                                           learning_rate='optimal',\n",
    "                                                           max_iter=4500))]),\n",
    "                   n_iter=1500, n_jobs=-1,\n",
    "                   param_distributions={'sgd__alpha': [0.0001, 0.001, 0.01, 0.1,\n",
    "                                                       1, 10, 100, 1000],\n",
    "                                        'sgd__average': [True, False],\n",
    "                                        'sgd__eta0': [1, 10, 100],\n",
    "                                        'sgd__learning_rate': ['constant',\n",
    "                                                               'optimal',\n",
    "                                                               'invscaling',\n",
    "                                                               'adaptive'],\n",
    "                                        'sgd__loss': ['squared_loss', 'huber',\n",
    "                                                      'epsilon_insensitive',\n",
    "                                                      'squared_epsilon_insensitive'],\n",
    "                                        'sgd__penalty': ['l1', 'l2',\n",
    "                                                         'elasticnet']},\n",
    "                   verbose=2)"
   ]
  },
  {
   "cell_type": "markdown",
   "id": "1fc1fd91",
   "metadata": {},
   "source": [
    "##### Best Estimator\n",
    "( Skip )"
   ]
  },
  {
   "cell_type": "code",
   "execution_count": null,
   "id": "89fbccaa",
   "metadata": {},
   "outputs": [],
   "source": [
    "best_sgd = rcv_sgd.best_estimator_\n"
   ]
  },
  {
   "cell_type": "markdown",
   "id": "dab43ec3",
   "metadata": {},
   "source": [
    "##### CV Scores"
   ]
  },
  {
   "cell_type": "code",
   "execution_count": null,
   "id": "8a1804b1",
   "metadata": {},
   "outputs": [],
   "source": [
    "mean_score_sgd = rcv_sgd.cv_results_['mean_test_score']\n",
    "std_score_sgd = rcv_sgd.cv_results_['std_test_score']\n",
    "params_sgd = rcv_sgd.cv_results_['params']"
   ]
  },
  {
   "cell_type": "code",
   "execution_count": null,
   "id": "0bd08bfb",
   "metadata": {},
   "outputs": [],
   "source": [
    "cv_score_df = pd.DataFrame(params_sgd)\n",
    "cv_score_df['mean_score_sgd'] = mean_score_sgd\n",
    "cv_score_df['std_score_sgd'] = std_score_sgd"
   ]
  },
  {
   "cell_type": "code",
   "execution_count": null,
   "id": "8f983a1c",
   "metadata": {},
   "outputs": [],
   "source": [
    "breakdown_sgd = {\"Index\": rcv_sgd.best_index_,\n",
    "\"Params\" : rcv_sgd.best_params_,\n",
    "\"Estimator\" : rcv_sgd.best_estimator_,\n",
    "\"Score\" : rcv_sgd.best_score_}"
   ]
  },
  {
   "cell_type": "markdown",
   "id": "5601b62c",
   "metadata": {},
   "source": [
    " "
   ]
  },
  {
   "cell_type": "markdown",
   "id": "932e3441",
   "metadata": {},
   "source": [
    "##### Run Cell to use saved Hyper-Parameters \n",
    "\n",
    "> SKIP-TO-POINT"
   ]
  },
  {
   "cell_type": "code",
   "execution_count": null,
   "id": "202443da",
   "metadata": {},
   "outputs": [],
   "source": [
    "best_sgd = SGDRegressor(eta0=1, learning_rate='adaptive',\n",
    "            loss='squared_epsilon_insensitive', \n",
    "            max_iter=4500, penalty='elasticnet')"
   ]
  },
  {
   "cell_type": "markdown",
   "id": "b92b0eb7",
   "metadata": {},
   "source": [
    "#### Add to Pipes ####"
   ]
  },
  {
   "cell_type": "code",
   "execution_count": null,
   "id": "7e6d0281",
   "metadata": {},
   "outputs": [],
   "source": [
    "add_pipe(Pipeline(steps=[('scaler', StandardScaler()),\n",
    "                ('sgd', best_sgd)]), 'best_sgd')"
   ]
  },
  {
   "cell_type": "markdown",
   "id": "f993404d",
   "metadata": {},
   "source": [
    "#### Learning Curves ####"
   ]
  },
  {
   "cell_type": "code",
   "execution_count": null,
   "id": "3d5b206e",
   "metadata": {},
   "outputs": [],
   "source": [
    "plot_lc('best_sgd')"
   ]
  },
  {
   "cell_type": "markdown",
   "id": "31931f3e",
   "metadata": {},
   "source": [
    "#### K-Fold Scores ####"
   ]
  },
  {
   "cell_type": "code",
   "execution_count": null,
   "id": "aa88842e",
   "metadata": {},
   "outputs": [],
   "source": [
    "scores_ = []\n",
    "colors = ['midnightblue', 'springgreen', 'goldenrod']\n",
    "fig = plt.figure()\n",
    "i = 0\n",
    "for train, test in cv.split(X_train_sel, y_train):\n",
    "    model = pipes['best_sgd']\n",
    "    prediction = pipe_sgd.fit(X_train_sel.iloc[train], y_train.iloc[train]).predict(X_train_sel.iloc[test])\n",
    "    true = y_train.iloc[test]\n",
    "    score = r2_score(true, prediction)\n",
    "    scores_.append(score)\n",
    "    plt.scatter(prediction, true, c=colors[i],lw=2, alpha=0.3, \n",
    "                label='Fold %d (R2 = %0.2f)' % (i,score))\n",
    "    i = i+1\n",
    "\n",
    "plt.plot([min(y_train),max(y_train)], [min(y_train),max(y_train)], lw=2, color='black')\n",
    "plt.xlabel('Predicted')\n",
    "plt.ylabel('True')\n",
    "plt.title('SGD K-Fold Validation (R2)')\n",
    "plt.legend()\n",
    "plt.show()"
   ]
  },
  {
   "cell_type": "markdown",
   "id": "85f19144",
   "metadata": {},
   "source": [
    "### Test: SGD ###\n"
   ]
  },
  {
   "cell_type": "markdown",
   "id": "0a9656d3",
   "metadata": {},
   "source": [
    "#### Initiate Model ####"
   ]
  },
  {
   "cell_type": "code",
   "execution_count": null,
   "id": "d8cd58f9",
   "metadata": {},
   "outputs": [],
   "source": [
    "test_sgd = pipes['best_sgd']"
   ]
  },
  {
   "cell_type": "markdown",
   "id": "6ab966ab",
   "metadata": {},
   "source": [
    "#### Fit ####"
   ]
  },
  {
   "cell_type": "code",
   "execution_count": null,
   "id": "b783ab02",
   "metadata": {},
   "outputs": [],
   "source": [
    "test_sgd.fit(X_train_sel, y_train)"
   ]
  },
  {
   "cell_type": "markdown",
   "id": "76a2294f",
   "metadata": {},
   "source": [
    "##### Predict #####"
   ]
  },
  {
   "cell_type": "code",
   "execution_count": null,
   "id": "a8851fb8",
   "metadata": {},
   "outputs": [],
   "source": [
    "pred_sgd = test_sgd.predict(X_test_sel)"
   ]
  },
  {
   "cell_type": "markdown",
   "id": "7a3c0430",
   "metadata": {},
   "source": [
    "##### Scores"
   ]
  },
  {
   "cell_type": "markdown",
   "id": "2c35b769",
   "metadata": {},
   "source": [
    "> Store Scores"
   ]
  },
  {
   "cell_type": "code",
   "execution_count": null,
   "id": "47be22f0",
   "metadata": {},
   "outputs": [],
   "source": [
    "sgd_mae = mean_absolute_error(y_test, pred_sgd)\n",
    "sgd_rmse = mean_squared_error(y_test, pred_sgd, squared=False)\n",
    "sgd_r2 = r2_score(y_test, pred_sgd)\n",
    "sgd_ev = explained_variance_score(y_test, pred_sgd)\n",
    "\n",
    "sgd_scores = {\"MAE\":sgd_mae,\n",
    "             \"RMSE\":sgd_rmse,\n",
    "             \"R2\":sgd_r2,\n",
    "             \"Expl_Var\":sgd_ev}"
   ]
  },
  {
   "cell_type": "markdown",
   "id": "92b36dbd",
   "metadata": {},
   "source": [
    "> Display Scores"
   ]
  },
  {
   "cell_type": "code",
   "execution_count": null,
   "id": "c83fd35a",
   "metadata": {},
   "outputs": [],
   "source": [
    "sgd_scores"
   ]
  },
  {
   "cell_type": "markdown",
   "id": "29589fdb",
   "metadata": {},
   "source": [
    "> Add to 'scores'"
   ]
  },
  {
   "cell_type": "code",
   "execution_count": null,
   "id": "6e9bfb37",
   "metadata": {},
   "outputs": [],
   "source": [
    "add_scores(sgd_scores, 'SGD')"
   ]
  },
  {
   "cell_type": "markdown",
   "id": "576a6f45",
   "metadata": {},
   "source": [
    "##### Display Results #####"
   ]
  },
  {
   "cell_type": "code",
   "execution_count": null,
   "id": "6a83fb04",
   "metadata": {},
   "outputs": [],
   "source": [
    "print(\"Scores for SGD Model:\")\n",
    "print()\n",
    "for k,v in sgd_scores.items():\n",
    "    print(f\"{k:<9}:{(str(round(v, 3))):>6}\")\n",
    "    "
   ]
  },
  {
   "cell_type": "markdown",
   "id": "662d55db",
   "metadata": {},
   "source": [
    " "
   ]
  },
  {
   "cell_type": "markdown",
   "id": "ec8e9c25",
   "metadata": {},
   "source": [
    "##### Plot Predictions vs. True"
   ]
  },
  {
   "cell_type": "code",
   "execution_count": null,
   "id": "534be367",
   "metadata": {},
   "outputs": [],
   "source": [
    "plt.figure(figsize=(10,8))\n",
    "plt.scatter(y_test, pred_sgd, c='m')\n",
    "plt.title(\"SGD\", fontsize=20)\n",
    "p1 = max(max(pred_sgd), max(y_test))\n",
    "p2 = min(min(pred_sgd), min(y_test))\n",
    "plt.plot([p1, p2], [p1, p2], 'b')\n",
    "plt.xlabel('True Values', fontsize=15)\n",
    "plt.ylabel('Predictions', fontsize=15)\n",
    "plt.axis('equal')\n",
    "plt.show()"
   ]
  },
  {
   "cell_type": "markdown",
   "id": "42576416",
   "metadata": {},
   "source": [
    "##### Plot Residuals"
   ]
  },
  {
   "cell_type": "code",
   "execution_count": null,
   "id": "4a13b9e9",
   "metadata": {},
   "outputs": [],
   "source": [
    "sns.residplot(x=pred_sgd, y=y_test,data=X_test_sel,color='m')\n",
    "plt.title(\"SGD: Residuals\");"
   ]
  },
  {
   "cell_type": "markdown",
   "id": "7c1f8b3d",
   "metadata": {},
   "source": [
    "##### JointPlot"
   ]
  },
  {
   "cell_type": "code",
   "execution_count": null,
   "id": "79964dea",
   "metadata": {},
   "outputs": [],
   "source": [
    "sns.jointplot(x=pred_sgd, y=y_test, data=X_test_sel, kind=\"hist\", color='m');"
   ]
  },
  {
   "cell_type": "markdown",
   "id": "73ea93f2",
   "metadata": {},
   "source": [
    ">### MLP ###  \n",
    ">#### ( Neural Network ) ####"
   ]
  },
  {
   "cell_type": "markdown",
   "id": "a3c3d60a",
   "metadata": {},
   "source": [
    "#### Model ####"
   ]
  },
  {
   "cell_type": "code",
   "execution_count": null,
   "id": "89e05ec9",
   "metadata": {},
   "outputs": [],
   "source": [
    "mlp = MLPRegressor()"
   ]
  },
  {
   "cell_type": "markdown",
   "id": "368df98b",
   "metadata": {},
   "source": [
    "#### Pipeline ####\n",
    "\n"
   ]
  },
  {
   "cell_type": "code",
   "execution_count": null,
   "id": "6c8fd2f9",
   "metadata": {},
   "outputs": [],
   "source": [
    "pipe_mlp = Pipeline([('scaler', StandardScaler()), ('mlp', mlp)])\n",
    "add_pipe(pipe_mlp, 'mlp')"
   ]
  },
  {
   "cell_type": "markdown",
   "id": "9a0a2953",
   "metadata": {},
   "source": [
    " #### Learning Curve  ####"
   ]
  },
  {
   "cell_type": "code",
   "execution_count": null,
   "id": "e7792860",
   "metadata": {},
   "outputs": [],
   "source": [
    "plot_lc('mlp')"
   ]
  },
  {
   "cell_type": "markdown",
   "id": "a7d8a1ab",
   "metadata": {},
   "source": [
    " "
   ]
  },
  {
   "cell_type": "markdown",
   "id": "2e60c56b",
   "metadata": {},
   "source": [
    "## Fit Random Search Model #####\n",
    "\n",
    "The next few cells take time to run. \n",
    "\n",
    "To conitune with the saved results, \n",
    "\n",
    "skip down to the cell that reads: \"SKIP-TO-POINT\""
   ]
  },
  {
   "cell_type": "markdown",
   "id": "e58606ac",
   "metadata": {},
   "source": [
    "### Hyper-parameters to Tune ###"
   ]
  },
  {
   "cell_type": "code",
   "execution_count": null,
   "id": "6ac8184a",
   "metadata": {},
   "outputs": [],
   "source": [
    "hidden_layer_sizes = [(50,50,50), (50,100,50)]\n",
    "activation = ['identity', 'logistic', 'tanh', 'relu'],\n",
    "solver = ['lbfgs', 'sgd', 'adam']\n",
    "alpha = [0.0001, 0.001, 0.01, 0.1, 1, 10, 100, 1000] \n",
    "learning_rate = ['constant','adaptive']"
   ]
  },
  {
   "cell_type": "markdown",
   "id": "19ff5777",
   "metadata": {},
   "source": [
    "#### Dictionary of Parameters ####\n"
   ]
  },
  {
   "cell_type": "code",
   "execution_count": null,
   "id": "38c3abe3",
   "metadata": {},
   "outputs": [],
   "source": [
    "grid_mlp = {'mlp__hidden_layer_sizes': hidden_layer_sizes,\n",
    "            'mlp__solver': solver,\n",
    "            'mlp__alpha': alpha,\n",
    "            'mlp__learning_rate': learning_rate}\n",
    "\n",
    "#             'mlp__activation': activation,"
   ]
  },
  {
   "cell_type": "markdown",
   "id": "12dfdaf9",
   "metadata": {},
   "source": [
    "#### Create Random Search ####\n"
   ]
  },
  {
   "cell_type": "code",
   "execution_count": null,
   "id": "6c44f55e",
   "metadata": {},
   "outputs": [],
   "source": [
    "rcv_mlp = RandomizedSearchCV(estimator=pipe_mlp, param_distributions=grid_mlp, \n",
    "                                 n_iter=1500, cv=cv, verbose=2, n_jobs=-1)"
   ]
  },
  {
   "cell_type": "markdown",
   "id": "45ef8196",
   "metadata": {},
   "source": [
    "#### Fit the random search model ####\n",
    "\n",
    "    ( Note: The RCV fitting takes a long time. \n",
    "      Below following cell is an estimator saved from a previous fit. ) "
   ]
  },
  {
   "cell_type": "code",
   "execution_count": null,
   "id": "aa8ef082",
   "metadata": {},
   "outputs": [],
   "source": [
    "%%time\n",
    "\n",
    "rcv_mlp.fit(X_train, y_train)"
   ]
  },
  {
   "cell_type": "markdown",
   "id": "b2803502",
   "metadata": {},
   "source": [
    "##### Best Estimator #####\n",
    "This estimator has been saved from a previous run."
   ]
  },
  {
   "cell_type": "markdown",
   "id": "dfabc75e",
   "metadata": {},
   "source": [
    "Pipeline(steps=[('scaler', StandardScaler()),\n",
    "                ('mlp',\n",
    "                 MLPRegressor(alpha=10, hidden_layer_sizes=(50, 100, 50),\n",
    "                              learning_rate='adaptive', solver='sgd'))])"
   ]
  },
  {
   "cell_type": "markdown",
   "id": "ef45eae9",
   "metadata": {},
   "source": [
    " "
   ]
  },
  {
   "cell_type": "markdown",
   "id": "94c62bc5",
   "metadata": {},
   "source": [
    "##### Best Estimator"
   ]
  },
  {
   "cell_type": "code",
   "execution_count": null,
   "id": "1185bde4",
   "metadata": {},
   "outputs": [],
   "source": [
    "best_mlp = rcv_mlp.best_estimator_\n"
   ]
  },
  {
   "cell_type": "markdown",
   "id": "a9cc79c5",
   "metadata": {},
   "source": [
    "##### CV Scores"
   ]
  },
  {
   "cell_type": "code",
   "execution_count": null,
   "id": "8978b30f",
   "metadata": {},
   "outputs": [],
   "source": [
    "mean_score_mlp = rcv_mlp.cv_results_['mean_test_score']\n",
    "std_score_mlp = rcv_mlp.cv_results_['std_test_score']\n",
    "params_mlp = rcv_mlp.cv_results_['params']"
   ]
  },
  {
   "cell_type": "code",
   "execution_count": null,
   "id": "30bea838",
   "metadata": {},
   "outputs": [],
   "source": [
    "cv_score_df = pd.DataFrame(params_mlp)\n",
    "cv_score_df['mean_score_mlp'] = mean_score_mlp\n",
    "cv_score_df['std_score_mlp'] = std_score_mlp"
   ]
  },
  {
   "cell_type": "code",
   "execution_count": null,
   "id": "f83f2a3e",
   "metadata": {},
   "outputs": [],
   "source": [
    "breakdown_mlp = {\"Index\": rcv_mlp.best_index_,\n",
    "\"Params\" : rcv_mlp.best_params_,\n",
    "\"Estimator\" : rcv_mlp.best_estimator_,\n",
    "\"Score\" : rcv_mlp.best_score_}"
   ]
  },
  {
   "cell_type": "code",
   "execution_count": null,
   "id": "d1e1b216",
   "metadata": {},
   "outputs": [],
   "source": []
  },
  {
   "cell_type": "markdown",
   "id": "2320dd2d",
   "metadata": {},
   "source": [
    "##### Run Cell to use saved Hyper-Parameters \n",
    "\n",
    "> SKIP-TO-POINT"
   ]
  },
  {
   "cell_type": "code",
   "execution_count": null,
   "id": "f428d9f6",
   "metadata": {},
   "outputs": [],
   "source": [
    "best_mlp = MLPRegressor(alpha=10, hidden_layer_sizes=(50, 100, 50),\n",
    "            learning_rate='adaptive', solver='sgd')"
   ]
  },
  {
   "cell_type": "code",
   "execution_count": null,
   "id": "5f466e66",
   "metadata": {},
   "outputs": [],
   "source": [
    "add_pipe(Pipeline(steps=[('scaler', StandardScaler()),\n",
    "                ('mlp',best_mlp)]),'best_mlp')\n"
   ]
  },
  {
   "cell_type": "code",
   "execution_count": null,
   "id": "5bc048ca",
   "metadata": {},
   "outputs": [],
   "source": [
    "print(\"    Before:\")\n",
    "print(pipes['mlp'])\n",
    "print()\n",
    "print(\"    After:\")\n",
    "print(pipes['best_mlp'])"
   ]
  },
  {
   "cell_type": "markdown",
   "id": "be2cc138",
   "metadata": {},
   "source": [
    "#### K-Fold Scores ####"
   ]
  },
  {
   "cell_type": "code",
   "execution_count": null,
   "id": "50908562",
   "metadata": {},
   "outputs": [],
   "source": [
    "scores_ = []\n",
    "colors = ['midnightblue', 'springgreen', 'goldenrod']\n",
    "fig = plt.figure()\n",
    "i = 0\n",
    "for train, test in cv.split(X_train_sel, y_train):\n",
    "    model = pipes['best_mlp']\n",
    "    prediction = pipe_mlp.fit(X_train_sel.iloc[train], y_train.iloc[train]).predict(X_train_sel.iloc[test])\n",
    "    true = y_train.iloc[test]\n",
    "    score = r2_score(true, prediction)\n",
    "    scores_.append(score)\n",
    "    plt.scatter(prediction, true, c=colors[i],lw=2, alpha=0.3, \n",
    "                label='Fold %d (R2 = %0.2f)' % (i,score))\n",
    "    i = i+1\n",
    "\n",
    "plt.plot([min(y_train),max(y_train)], [min(y_train),max(y_train)], lw=2, color='black')\n",
    "plt.xlabel('Predicted')\n",
    "plt.ylabel('True')\n",
    "plt.title('MLP K-Fold Validation (R2)')\n",
    "plt.legend(dd)\n",
    "plt.show()"
   ]
  },
  {
   "cell_type": "markdown",
   "id": "26549019",
   "metadata": {},
   "source": [
    " "
   ]
  },
  {
   "cell_type": "markdown",
   "id": "a7b4e954",
   "metadata": {},
   "source": [
    "### Test: MLP ###\n"
   ]
  },
  {
   "cell_type": "markdown",
   "id": "be3d942b",
   "metadata": {},
   "source": [
    "#### Initiate Model ####"
   ]
  },
  {
   "cell_type": "code",
   "execution_count": null,
   "id": "a8882f8b",
   "metadata": {},
   "outputs": [],
   "source": [
    "test_mlp = pipes['best_mlp']"
   ]
  },
  {
   "cell_type": "markdown",
   "id": "6c93b322",
   "metadata": {},
   "source": [
    "#### Fit ####"
   ]
  },
  {
   "cell_type": "code",
   "execution_count": null,
   "id": "d1e3889e",
   "metadata": {},
   "outputs": [],
   "source": [
    "test_mlp.fit(X_train_sel, y_train)"
   ]
  },
  {
   "cell_type": "markdown",
   "id": "7eaf5428",
   "metadata": {},
   "source": [
    "##### Predict #####"
   ]
  },
  {
   "cell_type": "code",
   "execution_count": null,
   "id": "0289a0c9",
   "metadata": {},
   "outputs": [],
   "source": [
    "pred_mlp = test_mlp.predict(X_test_sel)\n"
   ]
  },
  {
   "cell_type": "markdown",
   "id": "23bc325e",
   "metadata": {},
   "source": [
    "##### Scores"
   ]
  },
  {
   "cell_type": "markdown",
   "id": "270cc225",
   "metadata": {},
   "source": [
    "> Store Scores"
   ]
  },
  {
   "cell_type": "code",
   "execution_count": null,
   "id": "645c42e7",
   "metadata": {},
   "outputs": [],
   "source": [
    "mlp_mae = mean_absolute_error(y_test, pred_mlp)\n",
    "mlp_rmse = mean_squared_error(y_test, pred_mlp, squared=False)\n",
    "mlp_r2 = r2_score(y_test, pred_mlp)\n",
    "mlp_ev = explained_variance_score(y_test, pred_mlp)\n",
    "\n",
    "mlp_scores = {\"MAE\":mlp_mae,\n",
    "             \"RMSE\":mlp_rmse,\n",
    "             \"R2\":mlp_r2,\n",
    "             \"Expl_Var\":mlp_ev}"
   ]
  },
  {
   "cell_type": "markdown",
   "id": "24019e94",
   "metadata": {},
   "source": [
    "> Display Scores"
   ]
  },
  {
   "cell_type": "code",
   "execution_count": null,
   "id": "dfc7d4d5",
   "metadata": {},
   "outputs": [],
   "source": [
    "print(\"Scores for MLP Model:\")\n",
    "print()\n",
    "for k,v in mlp_scores.items():\n",
    "    print(f\"{k:<9}:{(str(round(v, 3))):>6}\")\n",
    "    "
   ]
  },
  {
   "cell_type": "markdown",
   "id": "9e7bec4f",
   "metadata": {},
   "source": [
    "> Add to 'scores'"
   ]
  },
  {
   "cell_type": "code",
   "execution_count": null,
   "id": "bb694946",
   "metadata": {},
   "outputs": [],
   "source": [
    "add_scores(mlp_scores, 'MLP')"
   ]
  },
  {
   "cell_type": "markdown",
   "id": "913ba6a5",
   "metadata": {},
   "source": [
    "##### Display Results #####"
   ]
  },
  {
   "cell_type": "code",
   "execution_count": null,
   "id": "b953ae98",
   "metadata": {},
   "outputs": [],
   "source": [
    "print(\"Scores for MLP Model:\")\n",
    "print()\n",
    "for k,v in mlp_scores.items():\n",
    "    print(f\"{k:<9}:{(str(round(v, 3))):>6}\")\n",
    "    "
   ]
  },
  {
   "cell_type": "markdown",
   "id": "5a30dc80",
   "metadata": {},
   "source": [
    "##### Plot Predictions vs True"
   ]
  },
  {
   "cell_type": "code",
   "execution_count": null,
   "id": "1cc3004d",
   "metadata": {},
   "outputs": [],
   "source": [
    "plt.figure(figsize=(10,8))\n",
    "plt.scatter(y_test, pred_mlp, c='darkcyan')\n",
    "plt.title(\"MLP\", fontsize=20)\n",
    "p1 = max(max(pred_mlp), max(y_test))\n",
    "p2 = min(min(pred_mlp), min(y_test))\n",
    "plt.plot([p1, p2], [p1, p2], 'b')\n",
    "plt.xlabel('True Values', fontsize=15)\n",
    "plt.ylabel('Predictions', fontsize=15)\n",
    "plt.axis('equal')\n",
    "plt.show()"
   ]
  },
  {
   "cell_type": "markdown",
   "id": "19ee420d",
   "metadata": {},
   "source": [
    "##### JointPlot"
   ]
  },
  {
   "cell_type": "code",
   "execution_count": null,
   "id": "a07b3e70",
   "metadata": {},
   "outputs": [],
   "source": [
    "sns.jointplot(x=pred_mlp, y=y_test, data=X_test_sel, kind=\"hist\", color='darkcyan');"
   ]
  },
  {
   "cell_type": "markdown",
   "id": "e3da1cde",
   "metadata": {},
   "source": [
    "##### Plot Residuals"
   ]
  },
  {
   "cell_type": "code",
   "execution_count": null,
   "id": "f8f9c545",
   "metadata": {},
   "outputs": [],
   "source": [
    "sns.residplot(x=pred_mlp, y=y_test,data=X_test_sel,color='darkcyan')\n",
    "plt.title(\"MLP: Residuals\");"
   ]
  },
  {
   "cell_type": "markdown",
   "id": "77b7357d",
   "metadata": {},
   "source": [
    " "
   ]
  },
  {
   "cell_type": "markdown",
   "id": "6ac4e9bc",
   "metadata": {},
   "source": [
    ">>## Scores ##"
   ]
  },
  {
   "cell_type": "code",
   "execution_count": null,
   "id": "b9c837b4",
   "metadata": {},
   "outputs": [],
   "source": [
    "for k,v in scores.items():\n",
    "#     mlp_scores\n",
    "#     print(k)\n",
    "    n_score = f\"{k}_scores\"\n",
    "scores\n",
    "#     print(type(n_score))\n",
    "#     n_score.items():"
   ]
  },
  {
   "cell_type": "code",
   "execution_count": null,
   "id": "a8310760",
   "metadata": {},
   "outputs": [],
   "source": [
    "print(\"Mean Scores\")\n",
    "print()\n",
    "print(f\"True:  {str(round(y_test.mean(),2))}\")\n",
    "print()\n",
    "print(f\"RFR:  {str(round(pred_rfr.mean(),2))}\")\n",
    "print(f\"SGD:  {str(round(pred_sgd.mean(),2))}\")\n",
    "print(f\"MLP:  {str(round(pred_mlp.mean(),2))}\")"
   ]
  },
  {
   "cell_type": "markdown",
   "id": "69790b0d",
   "metadata": {},
   "source": [
    "#### Display Scores ####\n",
    "This is currently filtering out the Explained Variance Score.\n",
    "\n",
    "To turn filter off:\n",
    "1. Comment out the if/else statement.\n",
    "2. Comment in the print statement: \"filter switch\"."
   ]
  },
  {
   "cell_type": "code",
   "execution_count": null,
   "id": "a6270012",
   "metadata": {},
   "outputs": [],
   "source": [
    "scores = {\"Dummy\":dummy_scores, \"RFR\":rfr_scores, \"SGD\":sgd_scores, \"MLP\":mlp_scores}\n",
    "\n",
    "for model, score_set in scores.items():\n",
    "    print(model)\n",
    "    for metric, score in score_set.items():\n",
    "\n",
    "        round_score = str(round(score))\n",
    "        print(f\"{metric:<9}:{str(round(score,3)):>6}\")\n",
    " "
   ]
  },
  {
   "cell_type": "markdown",
   "id": "d7074f25",
   "metadata": {},
   "source": [
    "#### Scores Dataframe "
   ]
  },
  {
   "cell_type": "code",
   "execution_count": null,
   "id": "5822a08d",
   "metadata": {},
   "outputs": [],
   "source": [
    "# create_df\n",
    "scores_df = pd.DataFrame.from_dict(scores)\n",
    "\n"
   ]
  },
  {
   "cell_type": "markdown",
   "id": "5393e972",
   "metadata": {},
   "source": [
    "#### Optional: Drop Explained Variance metrric? "
   ]
  },
  {
   "cell_type": "code",
   "execution_count": null,
   "id": "bd4ca316",
   "metadata": {},
   "outputs": [],
   "source": [
    "ev_row = scores_df.loc['Expl_Var']\n",
    "scores_df.drop(labels = 'Expl_Var', inplace=True)"
   ]
  },
  {
   "cell_type": "markdown",
   "id": "baf8d25e",
   "metadata": {},
   "source": [
    "##### Display Scores"
   ]
  },
  {
   "cell_type": "code",
   "execution_count": null,
   "id": "ef4bf303",
   "metadata": {},
   "outputs": [],
   "source": [
    "scores_df"
   ]
  },
  {
   "cell_type": "markdown",
   "id": "febb6951",
   "metadata": {},
   "source": [
    "#### Create Series per Row"
   ]
  },
  {
   "cell_type": "code",
   "execution_count": null,
   "id": "c07e22be",
   "metadata": {},
   "outputs": [],
   "source": [
    "mae = scores_df.loc[\"MAE\"]\n",
    "rmse = scores_df.loc[\"RMSE\"]\n",
    "r2 = scores_df.loc[\"R2\"]\n",
    "# ev = scores_df.loc[\"Expl_Var\"]\n",
    "\n",
    "dummy = scores_df.loc[:,\"Dummy\"]\n",
    "rfr = scores_df.loc[:,\"RFR\"]\n",
    "sgd = scores_df.loc[:,\"SGD\"]\n",
    "mlp = scores_df.loc[:,\"MLP\"]"
   ]
  },
  {
   "cell_type": "markdown",
   "id": "9c454007",
   "metadata": {},
   "source": [
    "#### Plot Scores"
   ]
  },
  {
   "cell_type": "code",
   "execution_count": null,
   "id": "5cacad92",
   "metadata": {},
   "outputs": [],
   "source": [
    "colors = ['b','g','m','y']\n",
    "for i in range(len(scores_df.index)):\n",
    "    print()\n",
    "    fig =  plt.figure(figsize=(5,4))\n",
    "    plt.bar(scores_df.columns, scores_df.iloc[i], color = colors[i], width = 0.3)\n",
    "    plt.xlabel(\"Model\")\n",
    "    plt.ylabel(f\"{scores_df.index[i]}\")\n",
    "    plt.title(f\"{scores_df.index[i]} Scores\")\n",
    "    fig.tight_layout()\n",
    "    plt.show();"
   ]
  },
  {
   "cell_type": "markdown",
   "id": "da996f6c",
   "metadata": {},
   "source": [
    "##### KDE Plot "
   ]
  },
  {
   "cell_type": "code",
   "execution_count": null,
   "id": "6af9f1b4",
   "metadata": {},
   "outputs": [],
   "source": [
    "ax1 = sns.kdeplot(y_test, color=\"m\", shade=True, label=\"Actual Value\")\n",
    "ax2 = sns.kdeplot(pred_rfr, color=\"r\", label=\"RFR\")\n",
    "ax3 = sns.kdeplot(pred_sgd, color=\"b\", label=\"SGD\")\n",
    "ax4 = sns.kdeplot(pred_mlp, color=\"g\", label=\"MLP\")\n",
    "plt.title(\"Values: True / Predicted\")\n",
    "plt.legend();\n"
   ]
  }
 ],
 "metadata": {
  "kernelspec": {
   "display_name": "Python 3 (ipykernel)",
   "language": "python",
   "name": "python3"
  },
  "language_info": {
   "codemirror_mode": {
    "name": "ipython",
    "version": 3
   },
   "file_extension": ".py",
   "mimetype": "text/x-python",
   "name": "python",
   "nbconvert_exporter": "python",
   "pygments_lexer": "ipython3",
   "version": "3.9.7"
  }
 },
 "nbformat": 4,
 "nbformat_minor": 5
}
